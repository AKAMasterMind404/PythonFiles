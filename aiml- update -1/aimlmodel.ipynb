{
 "cells": [
  {
   "cell_type": "code",
   "execution_count": 1,
   "metadata": {},
   "outputs": [],
   "source": [
    "import tensorflow as tf\n",
    "from tensorflow import keras\n",
    "import matplotlib.pyplot as plt\n",
    "import numpy as np\n",
    "import pandas as pd"
   ]
  },
  {
   "cell_type": "code",
   "execution_count": 2,
   "metadata": {},
   "outputs": [],
   "source": [
    "(X_train,y_train),(X_test,y_test)=keras.datasets.mnist.load_data()"
   ]
  },
  {
   "cell_type": "code",
   "execution_count": 3,
   "metadata": {},
   "outputs": [
    {
     "data": {
      "text/plain": [
       "array([[[0, 0, 0, ..., 0, 0, 0],\n",
       "        [0, 0, 0, ..., 0, 0, 0],\n",
       "        [0, 0, 0, ..., 0, 0, 0],\n",
       "        ...,\n",
       "        [0, 0, 0, ..., 0, 0, 0],\n",
       "        [0, 0, 0, ..., 0, 0, 0],\n",
       "        [0, 0, 0, ..., 0, 0, 0]],\n",
       "\n",
       "       [[0, 0, 0, ..., 0, 0, 0],\n",
       "        [0, 0, 0, ..., 0, 0, 0],\n",
       "        [0, 0, 0, ..., 0, 0, 0],\n",
       "        ...,\n",
       "        [0, 0, 0, ..., 0, 0, 0],\n",
       "        [0, 0, 0, ..., 0, 0, 0],\n",
       "        [0, 0, 0, ..., 0, 0, 0]],\n",
       "\n",
       "       [[0, 0, 0, ..., 0, 0, 0],\n",
       "        [0, 0, 0, ..., 0, 0, 0],\n",
       "        [0, 0, 0, ..., 0, 0, 0],\n",
       "        ...,\n",
       "        [0, 0, 0, ..., 0, 0, 0],\n",
       "        [0, 0, 0, ..., 0, 0, 0],\n",
       "        [0, 0, 0, ..., 0, 0, 0]],\n",
       "\n",
       "       ...,\n",
       "\n",
       "       [[0, 0, 0, ..., 0, 0, 0],\n",
       "        [0, 0, 0, ..., 0, 0, 0],\n",
       "        [0, 0, 0, ..., 0, 0, 0],\n",
       "        ...,\n",
       "        [0, 0, 0, ..., 0, 0, 0],\n",
       "        [0, 0, 0, ..., 0, 0, 0],\n",
       "        [0, 0, 0, ..., 0, 0, 0]],\n",
       "\n",
       "       [[0, 0, 0, ..., 0, 0, 0],\n",
       "        [0, 0, 0, ..., 0, 0, 0],\n",
       "        [0, 0, 0, ..., 0, 0, 0],\n",
       "        ...,\n",
       "        [0, 0, 0, ..., 0, 0, 0],\n",
       "        [0, 0, 0, ..., 0, 0, 0],\n",
       "        [0, 0, 0, ..., 0, 0, 0]],\n",
       "\n",
       "       [[0, 0, 0, ..., 0, 0, 0],\n",
       "        [0, 0, 0, ..., 0, 0, 0],\n",
       "        [0, 0, 0, ..., 0, 0, 0],\n",
       "        ...,\n",
       "        [0, 0, 0, ..., 0, 0, 0],\n",
       "        [0, 0, 0, ..., 0, 0, 0],\n",
       "        [0, 0, 0, ..., 0, 0, 0]]], dtype=uint8)"
      ]
     },
     "execution_count": 3,
     "metadata": {},
     "output_type": "execute_result"
    }
   ],
   "source": [
    "X_train"
   ]
  },
  {
   "cell_type": "code",
   "execution_count": 4,
   "metadata": {},
   "outputs": [
    {
     "data": {
      "text/plain": [
       "60000"
      ]
     },
     "execution_count": 4,
     "metadata": {},
     "output_type": "execute_result"
    }
   ],
   "source": [
    "len(X_train)"
   ]
  },
  {
   "cell_type": "code",
   "execution_count": 5,
   "metadata": {},
   "outputs": [
    {
     "data": {
      "text/plain": [
       "10000"
      ]
     },
     "execution_count": 5,
     "metadata": {},
     "output_type": "execute_result"
    }
   ],
   "source": [
    "len(X_test)"
   ]
  },
  {
   "cell_type": "code",
   "execution_count": 6,
   "metadata": {},
   "outputs": [
    {
     "data": {
      "text/plain": [
       "(28, 28)"
      ]
     },
     "execution_count": 6,
     "metadata": {},
     "output_type": "execute_result"
    }
   ],
   "source": [
    "X_train[0].shape"
   ]
  },
  {
   "cell_type": "code",
   "execution_count": 7,
   "metadata": {},
   "outputs": [
    {
     "data": {
      "text/plain": [
       "array([[  0,   0,   0,   0,   0,   0,   0,   0,   0,   0,   0,   0,   0,\n",
       "          0,   0,   0,   0,   0,   0,   0,   0,   0,   0,   0,   0,   0,\n",
       "          0,   0],\n",
       "       [  0,   0,   0,   0,   0,   0,   0,   0,   0,   0,   0,   0,   0,\n",
       "          0,   0,   0,   0,   0,   0,   0,   0,   0,   0,   0,   0,   0,\n",
       "          0,   0],\n",
       "       [  0,   0,   0,   0,   0,   0,   0,   0,   0,   0,   0,   0,   0,\n",
       "          0,   0,   0,   0,   0,   0,   0,   0,   0,   0,   0,   0,   0,\n",
       "          0,   0],\n",
       "       [  0,   0,   0,   0,   0,   0,   0,   0,   0,   0,   0,   0,   0,\n",
       "          0,   0,   0,   0,   0,   0,   0,   0,   0,   0,   0,   0,   0,\n",
       "          0,   0],\n",
       "       [  0,   0,   0,   0,   0,   0,   0,   0,   0,   0,   0,   0,   0,\n",
       "          0,   0,   0,   0,   0,   0,   0,   0,   0,   0,   0,   0,   0,\n",
       "          0,   0],\n",
       "       [  0,   0,   0,   0,   0,   0,   0,   0,   0,   0,   0,   0,   3,\n",
       "         18,  18,  18, 126, 136, 175,  26, 166, 255, 247, 127,   0,   0,\n",
       "          0,   0],\n",
       "       [  0,   0,   0,   0,   0,   0,   0,   0,  30,  36,  94, 154, 170,\n",
       "        253, 253, 253, 253, 253, 225, 172, 253, 242, 195,  64,   0,   0,\n",
       "          0,   0],\n",
       "       [  0,   0,   0,   0,   0,   0,   0,  49, 238, 253, 253, 253, 253,\n",
       "        253, 253, 253, 253, 251,  93,  82,  82,  56,  39,   0,   0,   0,\n",
       "          0,   0],\n",
       "       [  0,   0,   0,   0,   0,   0,   0,  18, 219, 253, 253, 253, 253,\n",
       "        253, 198, 182, 247, 241,   0,   0,   0,   0,   0,   0,   0,   0,\n",
       "          0,   0],\n",
       "       [  0,   0,   0,   0,   0,   0,   0,   0,  80, 156, 107, 253, 253,\n",
       "        205,  11,   0,  43, 154,   0,   0,   0,   0,   0,   0,   0,   0,\n",
       "          0,   0],\n",
       "       [  0,   0,   0,   0,   0,   0,   0,   0,   0,  14,   1, 154, 253,\n",
       "         90,   0,   0,   0,   0,   0,   0,   0,   0,   0,   0,   0,   0,\n",
       "          0,   0],\n",
       "       [  0,   0,   0,   0,   0,   0,   0,   0,   0,   0,   0, 139, 253,\n",
       "        190,   2,   0,   0,   0,   0,   0,   0,   0,   0,   0,   0,   0,\n",
       "          0,   0],\n",
       "       [  0,   0,   0,   0,   0,   0,   0,   0,   0,   0,   0,  11, 190,\n",
       "        253,  70,   0,   0,   0,   0,   0,   0,   0,   0,   0,   0,   0,\n",
       "          0,   0],\n",
       "       [  0,   0,   0,   0,   0,   0,   0,   0,   0,   0,   0,   0,  35,\n",
       "        241, 225, 160, 108,   1,   0,   0,   0,   0,   0,   0,   0,   0,\n",
       "          0,   0],\n",
       "       [  0,   0,   0,   0,   0,   0,   0,   0,   0,   0,   0,   0,   0,\n",
       "         81, 240, 253, 253, 119,  25,   0,   0,   0,   0,   0,   0,   0,\n",
       "          0,   0],\n",
       "       [  0,   0,   0,   0,   0,   0,   0,   0,   0,   0,   0,   0,   0,\n",
       "          0,  45, 186, 253, 253, 150,  27,   0,   0,   0,   0,   0,   0,\n",
       "          0,   0],\n",
       "       [  0,   0,   0,   0,   0,   0,   0,   0,   0,   0,   0,   0,   0,\n",
       "          0,   0,  16,  93, 252, 253, 187,   0,   0,   0,   0,   0,   0,\n",
       "          0,   0],\n",
       "       [  0,   0,   0,   0,   0,   0,   0,   0,   0,   0,   0,   0,   0,\n",
       "          0,   0,   0,   0, 249, 253, 249,  64,   0,   0,   0,   0,   0,\n",
       "          0,   0],\n",
       "       [  0,   0,   0,   0,   0,   0,   0,   0,   0,   0,   0,   0,   0,\n",
       "          0,  46, 130, 183, 253, 253, 207,   2,   0,   0,   0,   0,   0,\n",
       "          0,   0],\n",
       "       [  0,   0,   0,   0,   0,   0,   0,   0,   0,   0,   0,   0,  39,\n",
       "        148, 229, 253, 253, 253, 250, 182,   0,   0,   0,   0,   0,   0,\n",
       "          0,   0],\n",
       "       [  0,   0,   0,   0,   0,   0,   0,   0,   0,   0,  24, 114, 221,\n",
       "        253, 253, 253, 253, 201,  78,   0,   0,   0,   0,   0,   0,   0,\n",
       "          0,   0],\n",
       "       [  0,   0,   0,   0,   0,   0,   0,   0,  23,  66, 213, 253, 253,\n",
       "        253, 253, 198,  81,   2,   0,   0,   0,   0,   0,   0,   0,   0,\n",
       "          0,   0],\n",
       "       [  0,   0,   0,   0,   0,   0,  18, 171, 219, 253, 253, 253, 253,\n",
       "        195,  80,   9,   0,   0,   0,   0,   0,   0,   0,   0,   0,   0,\n",
       "          0,   0],\n",
       "       [  0,   0,   0,   0,  55, 172, 226, 253, 253, 253, 253, 244, 133,\n",
       "         11,   0,   0,   0,   0,   0,   0,   0,   0,   0,   0,   0,   0,\n",
       "          0,   0],\n",
       "       [  0,   0,   0,   0, 136, 253, 253, 253, 212, 135, 132,  16,   0,\n",
       "          0,   0,   0,   0,   0,   0,   0,   0,   0,   0,   0,   0,   0,\n",
       "          0,   0],\n",
       "       [  0,   0,   0,   0,   0,   0,   0,   0,   0,   0,   0,   0,   0,\n",
       "          0,   0,   0,   0,   0,   0,   0,   0,   0,   0,   0,   0,   0,\n",
       "          0,   0],\n",
       "       [  0,   0,   0,   0,   0,   0,   0,   0,   0,   0,   0,   0,   0,\n",
       "          0,   0,   0,   0,   0,   0,   0,   0,   0,   0,   0,   0,   0,\n",
       "          0,   0],\n",
       "       [  0,   0,   0,   0,   0,   0,   0,   0,   0,   0,   0,   0,   0,\n",
       "          0,   0,   0,   0,   0,   0,   0,   0,   0,   0,   0,   0,   0,\n",
       "          0,   0]], dtype=uint8)"
      ]
     },
     "execution_count": 7,
     "metadata": {},
     "output_type": "execute_result"
    }
   ],
   "source": [
    "X_train[0]"
   ]
  },
  {
   "cell_type": "code",
   "execution_count": 8,
   "metadata": {},
   "outputs": [
    {
     "data": {
      "text/plain": [
       "<matplotlib.image.AxesImage at 0x1d0a2145b48>"
      ]
     },
     "execution_count": 8,
     "metadata": {},
     "output_type": "execute_result"
    },
    {
     "data": {
      "image/png": "[encoded data removed]",
      "text/plain": [
       "<Figure size 432x288 with 1 Axes>"
      ]
     },
     "metadata": {
      "needs_background": "light"
     },
     "output_type": "display_data"
    }
   ],
   "source": [
    "plt.imshow(X_train[7])"
   ]
  },
  {
   "cell_type": "code",
   "execution_count": 9,
   "metadata": {},
   "outputs": [
    {
     "data": {
      "text/plain": [
       "4"
      ]
     },
     "execution_count": 9,
     "metadata": {},
     "output_type": "execute_result"
    }
   ],
   "source": [
    "y_train[2]"
   ]
  },
  {
   "cell_type": "code",
   "execution_count": 10,
   "metadata": {},
   "outputs": [
    {
     "data": {
      "text/plain": [
       "array([5], dtype=uint8)"
      ]
     },
     "execution_count": 10,
     "metadata": {},
     "output_type": "execute_result"
    }
   ],
   "source": [
    "y_train[:1]"
   ]
  },
  {
   "cell_type": "code",
   "execution_count": 11,
   "metadata": {},
   "outputs": [],
   "source": [
    "X_train=X_train/255\n",
    "X_test=X_test/255"
   ]
  },
  {
   "cell_type": "code",
   "execution_count": 12,
   "metadata": {},
   "outputs": [
    {
     "data": {
      "text/plain": [
       "(60000, 784)"
      ]
     },
     "execution_count": 12,
     "metadata": {},
     "output_type": "execute_result"
    }
   ],
   "source": [
    "X_train_flattened=X_train.reshape(len(X_train),28*28)\n",
    "X_train_flattened.shape"
   ]
  },
  {
   "cell_type": "code",
   "execution_count": 13,
   "metadata": {},
   "outputs": [
    {
     "data": {
      "text/plain": [
       "(10000, 784)"
      ]
     },
     "execution_count": 13,
     "metadata": {},
     "output_type": "execute_result"
    }
   ],
   "source": [
    "X_test_flattened=X_test.reshape(len(X_test),28*28)\n",
    "X_test_flattened.shape"
   ]
  },
  {
   "cell_type": "markdown",
   "metadata": {},
   "source": [
    "Till the above processes we just converted the 2D arrays to 1D array. Now we will create our simple neural network."
   ]
  },
  {
   "cell_type": "code",
   "execution_count": 14,
   "metadata": {},
   "outputs": [
    {
     "name": "stdout",
     "output_type": "stream",
     "text": [
      "Train on 60000 samples\n",
      "Epoch 1/5\n",
      "60000/60000 [==============================] - 20s 331us/sample - loss: 0.4922 - accuracy: 0.8770\n",
      "Epoch 2/5\n",
      "60000/60000 [==============================] - 4s 73us/sample - loss: 0.3068 - accuracy: 0.9159\n",
      "Epoch 3/5\n",
      "60000/60000 [==============================] - 4s 71us/sample - loss: 0.2857 - accuracy: 0.9208\n",
      "Epoch 4/5\n",
      "60000/60000 [==============================] - 4s 70us/sample - loss: 0.2751 - accuracy: 0.9235\n",
      "Epoch 5/5\n",
      "60000/60000 [==============================] - 5s 78us/sample - loss: 0.2682 - accuracy: 0.9260\n"
     ]
    },
    {
     "data": {
      "text/plain": [
       "<tensorflow.python.keras.callbacks.History at 0x1d0a21d6308>"
      ]
     },
     "execution_count": 14,
     "metadata": {},
     "output_type": "execute_result"
    }
   ],
   "source": [
    "model=keras.Sequential([\n",
    "     keras.layers.Dense(10,input_shape=(784,),activation='sigmoid')\n",
    "])#means stack of layers in my neural network, so every layer is one input.Dense means all connected to all other layers.10 is total output neurons number 0 to 9 so 10.\n",
    "model.compile(\n",
    "    optimizer='adam',\n",
    "    loss='sparse_categorical_crossentropy',\n",
    "    metrics=['accuracy']\n",
    ")\n",
    "model.fit(X_train_flattened,y_train,epochs=5)"
   ]
  },
  {
   "cell_type": "markdown",
   "metadata": {},
   "source": [
    "As accuracy was less we will go back & sclae the values by dividing 255 each value in matrix. We see now, accuracy is till 92%."
   ]
  },
  {
   "cell_type": "code",
   "execution_count": 15,
   "metadata": {},
   "outputs": [
    {
     "name": "stdout",
     "output_type": "stream",
     "text": [
      "10000/10000 [==============================] - 1s 74us/sample - loss: 0.2667 - accuracy: 0.9263\n"
     ]
    },
    {
     "data": {
      "text/plain": [
       "[0.26665770141482353, 0.9263]"
      ]
     },
     "execution_count": 15,
     "metadata": {},
     "output_type": "execute_result"
    }
   ],
   "source": [
    "model.evaluate(X_test_flattened,y_test)"
   ]
  },
  {
   "cell_type": "code",
   "execution_count": 16,
   "metadata": {},
   "outputs": [
    {
     "data": {
      "text/plain": [
       "<matplotlib.image.AxesImage at 0x1d0bccd8e88>"
      ]
     },
     "execution_count": 16,
     "metadata": {},
     "output_type": "execute_result"
    },
    {
     "data": {
      "image/png": "[encoded data removed]",
      "text/plain": [
       "<Figure size 288x288 with 1 Axes>"
      ]
     },
     "metadata": {
      "needs_background": "light"
     },
     "output_type": "display_data"
    }
   ],
   "source": [
    "plt.matshow(X_test[0])"
   ]
  },
  {
   "cell_type": "code",
   "execution_count": 17,
   "metadata": {},
   "outputs": [
    {
     "data": {
      "text/plain": [
       "array([1.7513512e-05, 1.2954948e-10, 3.7845446e-05, 7.5434493e-03,\n",
       "       1.1332983e-06, 7.7339238e-05, 1.8116595e-09, 7.2388548e-01,\n",
       "       6.9487440e-05, 6.4463745e-04], dtype=float32)"
      ]
     },
     "execution_count": 17,
     "metadata": {},
     "output_type": "execute_result"
    }
   ],
   "source": [
    "y_predicted=model.predict(X_test_flattened)\n",
    "y_predicted[0]"
   ]
  },
  {
   "cell_type": "markdown",
   "metadata": {},
   "source": [
    "This above array has ten values, as it is printing 10 scores of output layer of the neural model. We will use the max score of all as it gives the true result prediction we need."
   ]
  },
  {
   "cell_type": "code",
   "execution_count": 18,
   "metadata": {},
   "outputs": [
    {
     "data": {
      "text/plain": [
       "7"
      ]
     },
     "execution_count": 18,
     "metadata": {},
     "output_type": "execute_result"
    }
   ],
   "source": [
    "np.argmax(y_predicted[0])"
   ]
  },
  {
   "cell_type": "code",
   "execution_count": 19,
   "metadata": {},
   "outputs": [
    {
     "name": "stdout",
     "output_type": "stream",
     "text": [
      "Train on 60000 samples\n",
      "Epoch 1/5\n",
      "60000/60000 [==============================] - 7s 110us/sample - loss: 0.2987 - accuracy: 0.9169\n",
      "Epoch 2/5\n",
      "60000/60000 [==============================] - 6s 104us/sample - loss: 0.1413 - accuracy: 0.9584\n",
      "Epoch 3/5\n",
      "60000/60000 [==============================] - 6s 100us/sample - loss: 0.1015 - accuracy: 0.9697\n",
      "Epoch 4/5\n",
      "60000/60000 [==============================] - 6s 96us/sample - loss: 0.0774 - accuracy: 0.9771\n",
      "Epoch 5/5\n",
      "60000/60000 [==============================] - 6s 104us/sample - loss: 0.0630 - accuracy: 0.9808\n"
     ]
    },
    {
     "data": {
      "text/plain": [
       "<tensorflow.python.keras.callbacks.History at 0x1d0bccc92c8>"
      ]
     },
     "execution_count": 19,
     "metadata": {},
     "output_type": "execute_result"
    }
   ],
   "source": [
    "model=keras.Sequential([\n",
    "     keras.layers.Dense(100,input_shape=(784,),activation='relu'),\n",
    "     keras.layers.Dense(10,activation='sigmoid')#hidden layer\n",
    "])\n",
    "model.compile(\n",
    "    optimizer='adam',\n",
    "    loss='sparse_categorical_crossentropy',\n",
    "    metrics=['accuracy']\n",
    ")\n",
    "model.fit(X_train_flattened,y_train,epochs=5)"
   ]
  },
  {
   "cell_type": "code",
   "execution_count": 20,
   "metadata": {},
   "outputs": [
    {
     "name": "stdout",
     "output_type": "stream",
     "text": [
      "10000/10000 [==============================] - 1s 88us/sample - loss: 0.0884 - accuracy: 0.9739\n"
     ]
    },
    {
     "data": {
      "text/plain": [
       "[0.08839030076893978, 0.9739]"
      ]
     },
     "execution_count": 20,
     "metadata": {},
     "output_type": "execute_result"
    }
   ],
   "source": [
    "model.evaluate(X_test_flattened,y_test)"
   ]
  },
  {
   "cell_type": "code",
   "execution_count": 21,
   "metadata": {},
   "outputs": [
    {
     "name": "stdout",
     "output_type": "stream",
     "text": [
      "Train on 60000 samples\n",
      "Epoch 1/5\n",
      "60000/60000 [==============================] - 6s 107us/sample - loss: 0.2958 - accuracy: 0.9161\n",
      "Epoch 2/5\n",
      "60000/60000 [==============================] - 6s 105us/sample - loss: 0.1383 - accuracy: 0.9597\n",
      "Epoch 3/5\n",
      "60000/60000 [==============================] - 6s 101us/sample - loss: 0.0996 - accuracy: 0.9707\n",
      "Epoch 4/5\n",
      "60000/60000 [==============================] - 6s 95us/sample - loss: 0.0780 - accuracy: 0.9762\n",
      "Epoch 5/5\n",
      "60000/60000 [==============================] - 6s 99us/sample - loss: 0.0624 - accuracy: 0.9816\n"
     ]
    },
    {
     "data": {
      "text/plain": [
       "<tensorflow.python.keras.callbacks.History at 0x1d0be1f3a88>"
      ]
     },
     "execution_count": 21,
     "metadata": {},
     "output_type": "execute_result"
    }
   ],
   "source": [
    "model=keras.Sequential([\n",
    "     keras.layers.Flatten(input_shape=(28,28)),#to flatten the image in the model it self\n",
    "     keras.layers.Dense(100,activation='relu'),\n",
    "     keras.layers.Dense(10,activation='sigmoid')#hidden layer\n",
    "])\n",
    "model.compile(\n",
    "    optimizer='adam',\n",
    "    loss='sparse_categorical_crossentropy',\n",
    "    metrics=['accuracy']\n",
    ")\n",
    "model.fit(X_train,y_train,epochs=5)"
   ]
  },
  {
   "cell_type": "code",
   "execution_count": 22,
   "metadata": {},
   "outputs": [
    {
     "name": "stdout",
     "output_type": "stream",
     "text": [
      "10000/10000 [==============================] - 1s 101us/sample - loss: 0.0879 - accuracy: 0.9742\n"
     ]
    },
    {
     "data": {
      "text/plain": [
       "[0.087896211713925, 0.9742]"
      ]
     },
     "execution_count": 22,
     "metadata": {},
     "output_type": "execute_result"
    }
   ],
   "source": [
    "model.evaluate(X_test,y_test)"
   ]
  },
  {
   "cell_type": "code",
   "execution_count": 23,
   "metadata": {},
   "outputs": [
    {
     "data": {
      "text/plain": [
       "(28, 28)"
      ]
     },
     "execution_count": 23,
     "metadata": {},
     "output_type": "execute_result"
    }
   ],
   "source": [
    "X_test[1].shape"
   ]
  },
  {
   "cell_type": "code",
   "execution_count": 24,
   "metadata": {},
   "outputs": [],
   "source": [
    "import ipywidgets as widgets\n",
    "import ipycanvas  as canvas"
   ]
  },
  {
   "cell_type": "code",
   "execution_count": 25,
   "metadata": {},
   "outputs": [
    {
     "data": {
      "text/plain": [
       "<matplotlib.image.AxesImage at 0x1d0be5bc908>"
      ]
     },
     "execution_count": 25,
     "metadata": {},
     "output_type": "execute_result"
    },
    {
     "data": {
      "image/png": "[encoded data removed]",
      "text/plain": [
       "<Figure size 432x288 with 1 Axes>"
      ]
     },
     "metadata": {
      "needs_background": "light"
     },
     "output_type": "display_data"
    }
   ],
   "source": [
    "y=model.predict(X_test[:1])\n",
    "plt.imshow(X_test[0])"
   ]
  },
  {
   "cell_type": "code",
   "execution_count": 26,
   "metadata": {},
   "outputs": [
    {
     "data": {
      "text/plain": [
       "7"
      ]
     },
     "execution_count": 26,
     "metadata": {},
     "output_type": "execute_result"
    }
   ],
   "source": [
    "np.argmax(y)"
   ]
  },
  {
   "cell_type": "code",
   "execution_count": 27,
   "metadata": {},
   "outputs": [
    {
     "data": {
      "text/plain": [
       "array([[7.0737917e-07, 2.8754448e-08, 3.5095905e-05, 1.0865896e-03,\n",
       "        1.6789693e-09, 3.3694619e-07, 6.1714722e-10, 4.0123734e-01,\n",
       "        3.5302330e-07, 4.3410450e-06]], dtype=float32)"
      ]
     },
     "execution_count": 27,
     "metadata": {},
     "output_type": "execute_result"
    }
   ],
   "source": [
    "y"
   ]
  },
  {
   "cell_type": "code",
   "execution_count": 28,
   "metadata": {},
   "outputs": [
    {
     "data": {
      "application/vnd.jupyter.widget-view+json": {
       "model_id": "4f83d50d1ae64e3da96a9c06f7f95133",
       "version_major": 2,
       "version_minor": 0
      },
      "text/plain": [
       "FileUpload(value={}, accept='image/*', description='Upload')"
      ]
     },
     "metadata": {},
     "output_type": "display_data"
    }
   ],
   "source": [
    "upload_digit=widgets.FileUpload(\n",
    "    accept='image/*',  \n",
    "    multiple=False\n",
    ")\n",
    "upload_digit"
   ]
  },
  {
   "cell_type": "code",
   "execution_count": 29,
   "metadata": {},
   "outputs": [
    {
     "data": {
      "application/vnd.jupyter.widget-view+json": {
       "model_id": "7cab481ae8a641028266703e807b00cd",
       "version_major": 2,
       "version_minor": 0
      },
      "text/plain": [
       "FileUpload(value={}, accept='image/*', description='Upload')"
      ]
     },
     "metadata": {},
     "output_type": "display_data"
    }
   ],
   "source": [
    "upload_digit_2=widgets.FileUpload(\n",
    "    accept='image/*',  \n",
    "    multiple=False\n",
    ")\n",
    "upload_digit_2"
   ]
  },
  {
   "cell_type": "code",
   "execution_count": 31,
   "metadata": {},
   "outputs": [],
   "source": [
    "content = upload_digit.value[list(upload_digit.value.keys())[0]]['content']\n",
    "with open('myfile', 'wb') as f: f.write(content)\n",
    "content_2 = upload_digit_2.value[list(upload_digit_2.value.keys())[0]]['content']\n",
    "with open('myfile_2', 'wb') as f_2: f_2.write(content)"
   ]
  },
  {
   "cell_type": "code",
   "execution_count": 32,
   "metadata": {},
   "outputs": [
    {
     "data": {
      "text/plain": [
       "<matplotlib.image.AxesImage at 0x1d0be827e08>"
      ]
     },
     "execution_count": 32,
     "metadata": {},
     "output_type": "execute_result"
    },
    {
     "data": {
      "image/png": "[encoded data removed]",
      "text/plain": [
       "<Figure size 432x288 with 1 Axes>"
      ]
     },
     "metadata": {
      "needs_background": "light"
     },
     "output_type": "display_data"
    }
   ],
   "source": [
    "import matplotlib.image as mpimg\n",
    "plt.imshow(mpimg.imread(f.name))"
   ]
  },
  {
   "cell_type": "code",
   "execution_count": 33,
   "metadata": {},
   "outputs": [],
   "source": [
    "from PIL import Image\n",
    "from numpy import array\n",
    "img = Image.open(f.name)\n",
    "ar = array(img)\n",
    "ar=ar/255"
   ]
  },
  {
   "cell_type": "code",
   "execution_count": 34,
   "metadata": {},
   "outputs": [
    {
     "data": {
      "text/plain": [
       "array([[0.        , 0.        , 0.        , 0.        , 0.        ,\n",
       "        0.        , 0.        , 0.        , 0.        , 0.        ,\n",
       "        0.00392157, 0.        , 0.00392157, 0.00784314, 0.00784314,\n",
       "        0.        , 0.00392157, 0.01568627, 0.02352941, 0.00784314,\n",
       "        0.        , 0.        , 0.00784314, 0.01568627, 0.        ,\n",
       "        0.        , 0.        , 0.        ],\n",
       "       [0.        , 0.        , 0.        , 0.        , 0.        ,\n",
       "        0.        , 0.        , 0.        , 0.        , 0.        ,\n",
       "        0.        , 0.        , 0.        , 0.        , 0.        ,\n",
       "        0.        , 0.02745098, 0.        , 0.        , 0.        ,\n",
       "        0.01960784, 0.        , 0.        , 0.        , 0.        ,\n",
       "        0.        , 0.        , 0.        ],\n",
       "       [0.        , 0.        , 0.        , 0.        , 0.        ,\n",
       "        0.        , 0.        , 0.        , 0.00392157, 0.        ,\n",
       "        0.        , 0.        , 0.        , 0.        , 0.        ,\n",
       "        0.        , 0.0627451 , 0.01960784, 0.        , 0.01176471,\n",
       "        0.02352941, 0.00784314, 0.        , 0.        , 0.        ,\n",
       "        0.        , 0.        , 0.        ],\n",
       "       [0.        , 0.        , 0.        , 0.        , 0.        ,\n",
       "        0.        , 0.        , 0.        , 0.01568627, 0.00392157,\n",
       "        0.        , 0.00392157, 0.00392157, 0.        , 0.        ,\n",
       "        0.01176471, 0.        , 0.        , 0.00784314, 0.        ,\n",
       "        0.        , 0.01176471, 0.02745098, 0.01176471, 0.        ,\n",
       "        0.        , 0.        , 0.        ],\n",
       "       [0.        , 0.        , 0.        , 0.        , 0.        ,\n",
       "        0.        , 0.        , 0.        , 0.01176471, 0.        ,\n",
       "        0.        , 0.00784314, 0.00784314, 0.        , 0.        ,\n",
       "        0.01176471, 0.00392157, 0.01568627, 0.01568627, 0.        ,\n",
       "        0.        , 0.        , 0.00392157, 0.00392157, 0.        ,\n",
       "        0.        , 0.        , 0.        ],\n",
       "       [0.        , 0.        , 0.        , 0.        , 0.        ,\n",
       "        0.        , 0.        , 0.        , 0.        , 0.        ,\n",
       "        0.        , 0.01176471, 0.01176471, 0.        , 0.        ,\n",
       "        0.00784314, 0.03921569, 0.        , 0.        , 0.01176471,\n",
       "        0.02745098, 0.        , 0.        , 0.01176471, 0.        ,\n",
       "        0.        , 0.        , 0.        ],\n",
       "       [0.        , 0.        , 0.        , 0.        , 0.        ,\n",
       "        0.        , 0.        , 0.        , 0.        , 0.        ,\n",
       "        0.        , 0.03137255, 0.03529412, 0.00392157, 0.        ,\n",
       "        0.01960784, 0.        , 0.00392157, 0.02352941, 0.00392157,\n",
       "        0.        , 0.        , 0.01960784, 0.03137255, 0.        ,\n",
       "        0.        , 0.        , 0.        ],\n",
       "       [0.        , 0.        , 0.        , 0.        , 0.        ,\n",
       "        0.        , 0.        , 0.        , 0.00784314, 0.        ,\n",
       "        0.00784314, 0.05098039, 0.05882353, 0.02745098, 0.01568627,\n",
       "        0.03921569, 0.2       , 0.4       , 0.41568627, 0.16078431,\n",
       "        0.        , 0.        , 0.01960784, 0.        , 0.        ,\n",
       "        0.        , 0.        , 0.        ],\n",
       "       [0.        , 0.        , 0.        , 0.        , 0.        ,\n",
       "        0.        , 0.        , 0.        , 0.02352941, 0.        ,\n",
       "        0.0627451 , 0.54509804, 0.7254902 , 0.30196078, 0.40784314,\n",
       "        0.90980392, 0.99607843, 1.        , 0.98431373, 0.81960784,\n",
       "        0.01568627, 0.        , 0.02352941, 0.        , 0.        ,\n",
       "        0.        , 0.        , 0.        ],\n",
       "       [0.00392157, 0.00392157, 0.00392157, 0.00392157, 0.        ,\n",
       "        0.        , 0.        , 0.        , 0.        , 0.00784314,\n",
       "        0.36470588, 0.91372549, 1.        , 0.71372549, 0.69411765,\n",
       "        0.31372549, 0.37254902, 0.40784314, 0.93333333, 0.94117647,\n",
       "        0.6       , 0.01568627, 0.        , 0.00392157, 0.        ,\n",
       "        0.        , 0.        , 0.        ],\n",
       "       [0.01176471, 0.01176471, 0.00784314, 0.00784314, 0.00392157,\n",
       "        0.00392157, 0.        , 0.        , 0.        , 0.        ,\n",
       "        0.03921569, 0.59215686, 0.0745098 , 0.04313725, 0.        ,\n",
       "        0.05490196, 0.01176471, 0.        , 0.15686275, 1.        ,\n",
       "        1.        , 0.        , 0.        , 0.03137255, 0.        ,\n",
       "        0.        , 0.        , 0.        ],\n",
       "       [0.01960784, 0.01568627, 0.01568627, 0.01176471, 0.00784314,\n",
       "        0.00392157, 0.        , 0.        , 0.01960784, 0.09803922,\n",
       "        0.58039216, 0.45490196, 0.        , 0.03921569, 0.03529412,\n",
       "        0.        , 0.02745098, 0.05882353, 0.19215686, 0.99215686,\n",
       "        0.97254902, 0.        , 0.04313725, 0.        , 0.        ,\n",
       "        0.        , 0.        , 0.        ],\n",
       "       [0.01960784, 0.01568627, 0.01568627, 0.01176471, 0.00784314,\n",
       "        0.00392157, 0.        , 0.        , 0.00392157, 0.63921569,\n",
       "        0.96078431, 0.05098039, 0.03921569, 0.        , 0.00784314,\n",
       "        0.03137255, 0.        , 0.        , 0.63921569, 0.97254902,\n",
       "        0.89019608, 0.01176471, 0.        , 0.        , 0.        ,\n",
       "        0.        , 0.        , 0.        ],\n",
       "       [0.01176471, 0.01176471, 0.00784314, 0.00784314, 0.00392157,\n",
       "        0.00392157, 0.        , 0.        , 0.08627451, 0.63921569,\n",
       "        0.30196078, 0.        , 0.        , 0.03137255, 0.        ,\n",
       "        0.        , 0.        , 0.13333333, 1.        , 0.99607843,\n",
       "        0.93333333, 0.        , 0.0627451 , 0.04705882, 0.        ,\n",
       "        0.        , 0.        , 0.        ],\n",
       "       [0.00392157, 0.00392157, 0.00392157, 0.00392157, 0.        ,\n",
       "        0.        , 0.        , 0.        , 0.41176471, 0.96470588,\n",
       "        0.20392157, 0.        , 0.04313725, 0.        , 0.        ,\n",
       "        0.03921569, 0.17647059, 0.87058824, 0.9372549 , 0.84705882,\n",
       "        0.10588235, 0.03137255, 0.        , 0.        , 0.        ,\n",
       "        0.        , 0.        , 0.        ],\n",
       "       [0.        , 0.        , 0.        , 0.        , 0.        ,\n",
       "        0.        , 0.        , 0.        , 0.86666667, 0.88627451,\n",
       "        0.        , 0.        , 0.        , 0.06666667, 0.01568627,\n",
       "        0.14509804, 0.81176471, 0.99215686, 0.99607843, 0.12156863,\n",
       "        0.05098039, 0.        , 0.01568627, 0.01176471, 0.        ,\n",
       "        0.        , 0.        , 0.        ],\n",
       "       [0.00392157, 0.        , 0.        , 0.00392157, 0.        ,\n",
       "        0.        , 0.05490196, 0.15294118, 0.9254902 , 0.2745098 ,\n",
       "        0.        , 0.02745098, 0.01176471, 0.07058824, 0.6       ,\n",
       "        0.91764706, 1.        , 0.70588235, 0.25882353, 0.01960784,\n",
       "        0.        , 0.        , 0.        , 0.        , 0.        ,\n",
       "        0.        , 0.        , 0.        ],\n",
       "       [0.        , 0.        , 0.        , 0.01176471, 0.        ,\n",
       "        0.        , 0.02352941, 0.09803922, 0.92941176, 0.60784314,\n",
       "        0.        , 0.        , 0.61960784, 0.8627451 , 0.98039216,\n",
       "        1.        , 0.49803922, 0.27843137, 0.05098039, 0.        ,\n",
       "        0.        , 0.00392157, 0.00392157, 0.00392157, 0.        ,\n",
       "        0.        , 0.        , 0.        ],\n",
       "       [0.        , 0.        , 0.        , 0.01568627, 0.00392157,\n",
       "        0.        , 0.        , 0.02745098, 0.88235294, 0.91372549,\n",
       "        0.74117647, 0.91372549, 1.        , 0.98823529, 0.81960784,\n",
       "        0.27843137, 0.03921569, 0.        , 0.        , 0.        ,\n",
       "        0.00784314, 0.00392157, 0.        , 0.        , 0.        ,\n",
       "        0.        , 0.        , 0.        ],\n",
       "       [0.00784314, 0.        , 0.        , 0.01176471, 0.01176471,\n",
       "        0.        , 0.        , 0.        , 0.59215686, 1.        ,\n",
       "        0.96470588, 0.98823529, 1.        , 0.64705882, 0.1372549 ,\n",
       "        0.        , 0.        , 0.        , 0.        , 0.02745098,\n",
       "        0.02745098, 0.        , 0.        , 0.        , 0.        ,\n",
       "        0.        , 0.        , 0.        ],\n",
       "       [0.01568627, 0.        , 0.        , 0.        , 0.01176471,\n",
       "        0.00392157, 0.        , 0.        , 0.0745098 , 0.27058824,\n",
       "        0.43921569, 0.41960784, 0.1254902 , 0.00392157, 0.        ,\n",
       "        0.03529412, 0.00392157, 0.00392157, 0.00784314, 0.01568627,\n",
       "        0.00784314, 0.        , 0.        , 0.01176471, 0.        ,\n",
       "        0.        , 0.        , 0.        ],\n",
       "       [0.01568627, 0.        , 0.        , 0.        , 0.00392157,\n",
       "        0.00784314, 0.00784314, 0.00392157, 0.03137255, 0.        ,\n",
       "        0.01960784, 0.01568627, 0.        , 0.0745098 , 0.00392157,\n",
       "        0.        , 0.00392157, 0.        , 0.        , 0.        ,\n",
       "        0.        , 0.        , 0.        , 0.        , 0.        ,\n",
       "        0.        , 0.        , 0.        ],\n",
       "       [0.00784314, 0.00392157, 0.        , 0.        , 0.        ,\n",
       "        0.00392157, 0.00392157, 0.        , 0.        , 0.01176471,\n",
       "        0.03529412, 0.        , 0.        , 0.00392157, 0.        ,\n",
       "        0.03137255, 0.00392157, 0.00392157, 0.        , 0.        ,\n",
       "        0.        , 0.        , 0.        , 0.        , 0.        ,\n",
       "        0.        , 0.        , 0.        ],\n",
       "       [0.        , 0.00392157, 0.        , 0.        , 0.        ,\n",
       "        0.        , 0.        , 0.        , 0.        , 0.01568627,\n",
       "        0.00392157, 0.        , 0.05098039, 0.        , 0.01568627,\n",
       "        0.        , 0.        , 0.00392157, 0.        , 0.        ,\n",
       "        0.        , 0.00392157, 0.00784314, 0.00392157, 0.        ,\n",
       "        0.        , 0.        , 0.        ],\n",
       "       [0.        , 0.        , 0.        , 0.        , 0.        ,\n",
       "        0.        , 0.        , 0.        , 0.        , 0.        ,\n",
       "        0.        , 0.        , 0.        , 0.        , 0.        ,\n",
       "        0.        , 0.        , 0.        , 0.        , 0.        ,\n",
       "        0.        , 0.        , 0.        , 0.        , 0.        ,\n",
       "        0.        , 0.        , 0.        ],\n",
       "       [0.        , 0.        , 0.        , 0.        , 0.        ,\n",
       "        0.        , 0.        , 0.        , 0.        , 0.        ,\n",
       "        0.        , 0.        , 0.        , 0.        , 0.        ,\n",
       "        0.        , 0.        , 0.        , 0.        , 0.        ,\n",
       "        0.        , 0.        , 0.        , 0.        , 0.        ,\n",
       "        0.        , 0.        , 0.        ],\n",
       "       [0.        , 0.        , 0.        , 0.        , 0.        ,\n",
       "        0.        , 0.        , 0.        , 0.        , 0.        ,\n",
       "        0.        , 0.        , 0.        , 0.        , 0.        ,\n",
       "        0.        , 0.        , 0.        , 0.        , 0.        ,\n",
       "        0.        , 0.        , 0.        , 0.        , 0.        ,\n",
       "        0.        , 0.        , 0.        ],\n",
       "       [0.        , 0.        , 0.        , 0.        , 0.        ,\n",
       "        0.        , 0.        , 0.        , 0.        , 0.        ,\n",
       "        0.        , 0.        , 0.        , 0.        , 0.        ,\n",
       "        0.        , 0.        , 0.        , 0.        , 0.        ,\n",
       "        0.        , 0.        , 0.        , 0.        , 0.        ,\n",
       "        0.        , 0.        , 0.        ]])"
      ]
     },
     "execution_count": 34,
     "metadata": {},
     "output_type": "execute_result"
    }
   ],
   "source": [
    "ar"
   ]
  },
  {
   "cell_type": "code",
   "execution_count": 35,
   "metadata": {},
   "outputs": [
    {
     "data": {
      "text/plain": [
       "array([[0.        , 0.        , 0.        , 0.        , 0.        ,\n",
       "        0.        , 0.        , 0.        , 0.        , 0.        ,\n",
       "        0.        , 0.        , 0.        , 0.        , 0.        ,\n",
       "        0.        , 0.        , 0.        , 0.        , 0.        ,\n",
       "        0.        , 0.        , 0.        , 0.        , 0.        ,\n",
       "        0.        , 0.        , 0.        ],\n",
       "       [0.        , 0.        , 0.        , 0.        , 0.        ,\n",
       "        0.        , 0.        , 0.        , 0.        , 0.        ,\n",
       "        0.        , 0.        , 0.        , 0.        , 0.        ,\n",
       "        0.        , 0.        , 0.        , 0.        , 0.        ,\n",
       "        0.        , 0.        , 0.        , 0.        , 0.        ,\n",
       "        0.        , 0.        , 0.        ],\n",
       "       [0.        , 0.        , 0.        , 0.        , 0.        ,\n",
       "        0.        , 0.        , 0.        , 0.        , 0.        ,\n",
       "        0.        , 0.        , 0.        , 0.        , 0.        ,\n",
       "        0.        , 0.        , 0.        , 0.        , 0.        ,\n",
       "        0.        , 0.        , 0.        , 0.        , 0.        ,\n",
       "        0.        , 0.        , 0.        ],\n",
       "       [0.        , 0.        , 0.        , 0.        , 0.        ,\n",
       "        0.        , 0.        , 0.        , 0.        , 0.        ,\n",
       "        0.        , 0.        , 0.        , 0.        , 0.        ,\n",
       "        0.        , 0.        , 0.        , 0.        , 0.        ,\n",
       "        0.        , 0.        , 0.        , 0.        , 0.        ,\n",
       "        0.        , 0.        , 0.        ],\n",
       "       [0.        , 0.        , 0.        , 0.        , 0.        ,\n",
       "        0.        , 0.        , 0.        , 0.        , 0.        ,\n",
       "        0.        , 0.        , 0.        , 0.        , 0.        ,\n",
       "        0.        , 0.        , 0.        , 0.        , 0.        ,\n",
       "        0.        , 0.        , 0.        , 0.        , 0.        ,\n",
       "        0.        , 0.        , 0.        ],\n",
       "       [0.        , 0.        , 0.        , 0.        , 0.        ,\n",
       "        0.        , 0.        , 0.        , 0.        , 0.        ,\n",
       "        0.        , 0.        , 0.        , 0.        , 0.        ,\n",
       "        0.        , 0.        , 0.        , 0.        , 0.        ,\n",
       "        0.        , 0.        , 0.        , 0.        , 0.        ,\n",
       "        0.        , 0.        , 0.        ],\n",
       "       [0.        , 0.        , 0.        , 0.        , 0.        ,\n",
       "        0.        , 0.        , 0.        , 0.        , 0.        ,\n",
       "        0.        , 0.        , 0.        , 0.        , 0.        ,\n",
       "        0.        , 0.        , 0.        , 0.        , 0.        ,\n",
       "        0.        , 0.        , 0.        , 0.        , 0.        ,\n",
       "        0.        , 0.        , 0.        ],\n",
       "       [0.        , 0.        , 0.        , 0.        , 0.        ,\n",
       "        0.        , 0.32941176, 0.7254902 , 0.62352941, 0.59215686,\n",
       "        0.23529412, 0.14117647, 0.        , 0.        , 0.        ,\n",
       "        0.        , 0.        , 0.        , 0.        , 0.        ,\n",
       "        0.        , 0.        , 0.        , 0.        , 0.        ,\n",
       "        0.        , 0.        , 0.        ],\n",
       "       [0.        , 0.        , 0.        , 0.        , 0.        ,\n",
       "        0.        , 0.87058824, 0.99607843, 0.99607843, 0.99607843,\n",
       "        0.99607843, 0.94509804, 0.77647059, 0.77647059, 0.77647059,\n",
       "        0.77647059, 0.77647059, 0.77647059, 0.77647059, 0.77647059,\n",
       "        0.66666667, 0.20392157, 0.        , 0.        , 0.        ,\n",
       "        0.        , 0.        , 0.        ],\n",
       "       [0.        , 0.        , 0.        , 0.        , 0.        ,\n",
       "        0.        , 0.2627451 , 0.44705882, 0.28235294, 0.44705882,\n",
       "        0.63921569, 0.89019608, 0.99607843, 0.88235294, 0.99607843,\n",
       "        0.99607843, 0.99607843, 0.98039216, 0.89803922, 0.99607843,\n",
       "        0.99607843, 0.54901961, 0.        , 0.        , 0.        ,\n",
       "        0.        , 0.        , 0.        ],\n",
       "       [0.        , 0.        , 0.        , 0.        , 0.        ,\n",
       "        0.        , 0.        , 0.        , 0.        , 0.        ,\n",
       "        0.        , 0.06666667, 0.25882353, 0.05490196, 0.2627451 ,\n",
       "        0.2627451 , 0.2627451 , 0.23137255, 0.08235294, 0.9254902 ,\n",
       "        0.99607843, 0.41568627, 0.        , 0.        , 0.        ,\n",
       "        0.        , 0.        , 0.        ],\n",
       "       [0.        , 0.        , 0.        , 0.        , 0.        ,\n",
       "        0.        , 0.        , 0.        , 0.        , 0.        ,\n",
       "        0.        , 0.        , 0.        , 0.        , 0.        ,\n",
       "        0.        , 0.        , 0.        , 0.3254902 , 0.99215686,\n",
       "        0.81960784, 0.07058824, 0.        , 0.        , 0.        ,\n",
       "        0.        , 0.        , 0.        ],\n",
       "       [0.        , 0.        , 0.        , 0.        , 0.        ,\n",
       "        0.        , 0.        , 0.        , 0.        , 0.        ,\n",
       "        0.        , 0.        , 0.        , 0.        , 0.        ,\n",
       "        0.        , 0.        , 0.08627451, 0.91372549, 1.        ,\n",
       "        0.3254902 , 0.        , 0.        , 0.        , 0.        ,\n",
       "        0.        , 0.        , 0.        ],\n",
       "       [0.        , 0.        , 0.        , 0.        , 0.        ,\n",
       "        0.        , 0.        , 0.        , 0.        , 0.        ,\n",
       "        0.        , 0.        , 0.        , 0.        , 0.        ,\n",
       "        0.        , 0.        , 0.50588235, 0.99607843, 0.93333333,\n",
       "        0.17254902, 0.        , 0.        , 0.        , 0.        ,\n",
       "        0.        , 0.        , 0.        ],\n",
       "       [0.        , 0.        , 0.        , 0.        , 0.        ,\n",
       "        0.        , 0.        , 0.        , 0.        , 0.        ,\n",
       "        0.        , 0.        , 0.        , 0.        , 0.        ,\n",
       "        0.        , 0.23137255, 0.97647059, 0.99607843, 0.24313725,\n",
       "        0.        , 0.        , 0.        , 0.        , 0.        ,\n",
       "        0.        , 0.        , 0.        ],\n",
       "       [0.        , 0.        , 0.        , 0.        , 0.        ,\n",
       "        0.        , 0.        , 0.        , 0.        , 0.        ,\n",
       "        0.        , 0.        , 0.        , 0.        , 0.        ,\n",
       "        0.        , 0.52156863, 0.99607843, 0.73333333, 0.01960784,\n",
       "        0.        , 0.        , 0.        , 0.        , 0.        ,\n",
       "        0.        , 0.        , 0.        ],\n",
       "       [0.        , 0.        , 0.        , 0.        , 0.        ,\n",
       "        0.        , 0.        , 0.        , 0.        , 0.        ,\n",
       "        0.        , 0.        , 0.        , 0.        , 0.        ,\n",
       "        0.03529412, 0.80392157, 0.97254902, 0.22745098, 0.        ,\n",
       "        0.        , 0.        , 0.        , 0.        , 0.        ,\n",
       "        0.        , 0.        , 0.        ],\n",
       "       [0.        , 0.        , 0.        , 0.        , 0.        ,\n",
       "        0.        , 0.        , 0.        , 0.        , 0.        ,\n",
       "        0.        , 0.        , 0.        , 0.        , 0.        ,\n",
       "        0.49411765, 0.99607843, 0.71372549, 0.        , 0.        ,\n",
       "        0.        , 0.        , 0.        , 0.        , 0.        ,\n",
       "        0.        , 0.        , 0.        ],\n",
       "       [0.        , 0.        , 0.        , 0.        , 0.        ,\n",
       "        0.        , 0.        , 0.        , 0.        , 0.        ,\n",
       "        0.        , 0.        , 0.        , 0.        , 0.29411765,\n",
       "        0.98431373, 0.94117647, 0.22352941, 0.        , 0.        ,\n",
       "        0.        , 0.        , 0.        , 0.        , 0.        ,\n",
       "        0.        , 0.        , 0.        ],\n",
       "       [0.        , 0.        , 0.        , 0.        , 0.        ,\n",
       "        0.        , 0.        , 0.        , 0.        , 0.        ,\n",
       "        0.        , 0.        , 0.        , 0.0745098 , 0.86666667,\n",
       "        0.99607843, 0.65098039, 0.        , 0.        , 0.        ,\n",
       "        0.        , 0.        , 0.        , 0.        , 0.        ,\n",
       "        0.        , 0.        , 0.        ],\n",
       "       [0.        , 0.        , 0.        , 0.        , 0.        ,\n",
       "        0.        , 0.        , 0.        , 0.        , 0.        ,\n",
       "        0.        , 0.        , 0.01176471, 0.79607843, 0.99607843,\n",
       "        0.85882353, 0.1372549 , 0.        , 0.        , 0.        ,\n",
       "        0.        , 0.        , 0.        , 0.        , 0.        ,\n",
       "        0.        , 0.        , 0.        ],\n",
       "       [0.        , 0.        , 0.        , 0.        , 0.        ,\n",
       "        0.        , 0.        , 0.        , 0.        , 0.        ,\n",
       "        0.        , 0.        , 0.14901961, 0.99607843, 0.99607843,\n",
       "        0.30196078, 0.        , 0.        , 0.        , 0.        ,\n",
       "        0.        , 0.        , 0.        , 0.        , 0.        ,\n",
       "        0.        , 0.        , 0.        ],\n",
       "       [0.        , 0.        , 0.        , 0.        , 0.        ,\n",
       "        0.        , 0.        , 0.        , 0.        , 0.        ,\n",
       "        0.        , 0.12156863, 0.87843137, 0.99607843, 0.45098039,\n",
       "        0.00392157, 0.        , 0.        , 0.        , 0.        ,\n",
       "        0.        , 0.        , 0.        , 0.        , 0.        ,\n",
       "        0.        , 0.        , 0.        ],\n",
       "       [0.        , 0.        , 0.        , 0.        , 0.        ,\n",
       "        0.        , 0.        , 0.        , 0.        , 0.        ,\n",
       "        0.        , 0.52156863, 0.99607843, 0.99607843, 0.20392157,\n",
       "        0.        , 0.        , 0.        , 0.        , 0.        ,\n",
       "        0.        , 0.        , 0.        , 0.        , 0.        ,\n",
       "        0.        , 0.        , 0.        ],\n",
       "       [0.        , 0.        , 0.        , 0.        , 0.        ,\n",
       "        0.        , 0.        , 0.        , 0.        , 0.        ,\n",
       "        0.23921569, 0.94901961, 0.99607843, 0.99607843, 0.20392157,\n",
       "        0.        , 0.        , 0.        , 0.        , 0.        ,\n",
       "        0.        , 0.        , 0.        , 0.        , 0.        ,\n",
       "        0.        , 0.        , 0.        ],\n",
       "       [0.        , 0.        , 0.        , 0.        , 0.        ,\n",
       "        0.        , 0.        , 0.        , 0.        , 0.        ,\n",
       "        0.4745098 , 0.99607843, 0.99607843, 0.85882353, 0.15686275,\n",
       "        0.        , 0.        , 0.        , 0.        , 0.        ,\n",
       "        0.        , 0.        , 0.        , 0.        , 0.        ,\n",
       "        0.        , 0.        , 0.        ],\n",
       "       [0.        , 0.        , 0.        , 0.        , 0.        ,\n",
       "        0.        , 0.        , 0.        , 0.        , 0.        ,\n",
       "        0.4745098 , 0.99607843, 0.81176471, 0.07058824, 0.        ,\n",
       "        0.        , 0.        , 0.        , 0.        , 0.        ,\n",
       "        0.        , 0.        , 0.        , 0.        , 0.        ,\n",
       "        0.        , 0.        , 0.        ],\n",
       "       [0.        , 0.        , 0.        , 0.        , 0.        ,\n",
       "        0.        , 0.        , 0.        , 0.        , 0.        ,\n",
       "        0.        , 0.        , 0.        , 0.        , 0.        ,\n",
       "        0.        , 0.        , 0.        , 0.        , 0.        ,\n",
       "        0.        , 0.        , 0.        , 0.        , 0.        ,\n",
       "        0.        , 0.        , 0.        ]])"
      ]
     },
     "execution_count": 35,
     "metadata": {},
     "output_type": "execute_result"
    }
   ],
   "source": [
    "X_test[0]"
   ]
  },
  {
   "cell_type": "code",
   "execution_count": 36,
   "metadata": {},
   "outputs": [
    {
     "data": {
      "text/plain": [
       "(28, 28)"
      ]
     },
     "execution_count": 36,
     "metadata": {},
     "output_type": "execute_result"
    }
   ],
   "source": [
    "ar.shape"
   ]
  },
  {
   "cell_type": "code",
   "execution_count": 37,
   "metadata": {},
   "outputs": [
    {
     "data": {
      "text/plain": [
       "7"
      ]
     },
     "execution_count": 37,
     "metadata": {},
     "output_type": "execute_result"
    }
   ],
   "source": [
    "new=model.predict([X_test])\n",
    "np.argmax(new[0])"
   ]
  },
  {
   "cell_type": "code",
   "execution_count": 38,
   "metadata": {},
   "outputs": [
    {
     "data": {
      "text/plain": [
       "<matplotlib.image.AxesImage at 0x1d0be8ed048>"
      ]
     },
     "execution_count": 38,
     "metadata": {},
     "output_type": "execute_result"
    },
    {
     "data": {
      "image/png": "[encoded data removed]",
      "text/plain": [
       "<Figure size 432x288 with 1 Axes>"
      ]
     },
     "metadata": {
      "needs_background": "light"
     },
     "output_type": "display_data"
    }
   ],
   "source": [
    "plt.imshow(X_test[0])"
   ]
  },
  {
   "cell_type": "code",
   "execution_count": 39,
   "metadata": {},
   "outputs": [
    {
     "data": {
      "text/plain": [
       "<matplotlib.image.AxesImage at 0x1d0be8a2d48>"
      ]
     },
     "execution_count": 39,
     "metadata": {},
     "output_type": "execute_result"
    },
    {
     "data": {
      "image/png": "[encoded data removed]",
      "text/plain": [
       "<Figure size 432x288 with 1 Axes>"
      ]
     },
     "metadata": {
      "needs_background": "light"
     },
     "output_type": "display_data"
    }
   ],
   "source": [
    "import matplotlib.image as mpimg\n",
    "plt.imshow(mpimg.imread(f_2.name))"
   ]
  },
  {
   "cell_type": "code",
   "execution_count": 40,
   "metadata": {},
   "outputs": [],
   "source": [
    "from PIL import Image\n",
    "from numpy import array\n",
    "img_2 = Image.open(f.name)\n",
    "ar_2 = array(img_2)\n",
    "ar_2=ar_2/255"
   ]
  },
  {
   "cell_type": "code",
   "execution_count": 41,
   "metadata": {},
   "outputs": [
    {
     "data": {
      "text/plain": [
       "(28, 28)"
      ]
     },
     "execution_count": 41,
     "metadata": {},
     "output_type": "execute_result"
    }
   ],
   "source": [
    "ar_2.shape"
   ]
  },
  {
   "cell_type": "code",
   "execution_count": 42,
   "metadata": {},
   "outputs": [],
   "source": [
    "ar_n=[ar,ar_2]"
   ]
  },
  {
   "cell_type": "code",
   "execution_count": 43,
   "metadata": {},
   "outputs": [
    {
     "data": {
      "text/plain": [
       "1"
      ]
     },
     "execution_count": 43,
     "metadata": {},
     "output_type": "execute_result"
    }
   ],
   "source": [
    "len([ar_n])"
   ]
  },
  {
   "cell_type": "code",
   "execution_count": 44,
   "metadata": {},
   "outputs": [],
   "source": [
    "new_2=model.predict([ar_n])"
   ]
  },
  {
   "cell_type": "code",
   "execution_count": 45,
   "metadata": {},
   "outputs": [
    {
     "data": {
      "text/plain": [
       "array([[3.7907735e-02, 1.4212681e-06, 2.8910870e-03, 9.8218181e-05,\n",
       "        1.7421186e-03, 3.5492797e-06, 1.6304710e-05, 5.5295043e-04,\n",
       "        1.2020007e-05, 3.9617237e-02],\n",
       "       [3.7907735e-02, 1.4212681e-06, 2.8910870e-03, 9.8218181e-05,\n",
       "        1.7421186e-03, 3.5492797e-06, 1.6304710e-05, 5.5295043e-04,\n",
       "        1.2020007e-05, 3.9617237e-02]], dtype=float32)"
      ]
     },
     "execution_count": 45,
     "metadata": {},
     "output_type": "execute_result"
    }
   ],
   "source": [
    "new_2"
   ]
  },
  {
   "cell_type": "code",
   "execution_count": 46,
   "metadata": {},
   "outputs": [
    {
     "data": {
      "text/plain": [
       "array([3.7907735e-02, 1.4212681e-06, 2.8910870e-03, 9.8218181e-05,\n",
       "       1.7421186e-03, 3.5492797e-06, 1.6304710e-05, 5.5295043e-04,\n",
       "       1.2020007e-05, 3.9617237e-02], dtype=float32)"
      ]
     },
     "execution_count": 46,
     "metadata": {},
     "output_type": "execute_result"
    }
   ],
   "source": [
    "new_2[1]"
   ]
  },
  {
   "cell_type": "code",
   "execution_count": 47,
   "metadata": {},
   "outputs": [
    {
     "data": {
      "text/plain": [
       "9"
      ]
     },
     "execution_count": 47,
     "metadata": {},
     "output_type": "execute_result"
    }
   ],
   "source": [
    "np.argmax(new_2[1])"
   ]
  },
  {
   "cell_type": "code",
   "execution_count": 48,
   "metadata": {},
   "outputs": [
    {
     "name": "stderr",
     "output_type": "stream",
     "text": [
      "[INFO   ] [Logger      ] Record log in C:\\Users\\admin\\.kivy\\logs\\kivy_21-12-03_3.txt\n",
      "[INFO   ] [deps        ] Successfully imported \"kivy_deps.angle\" 0.3.0\n",
      "[INFO   ] [deps        ] Successfully imported \"kivy_deps.glew\" 0.3.0\n",
      "[INFO   ] [deps        ] Successfully imported \"kivy_deps.sdl2\" 0.3.1\n",
      "[INFO   ] [Kivy        ] v2.0.0\n",
      "[INFO   ] [Kivy        ] Installed at \"C:\\Users\\admin\\Anaconda3\\lib\\site-packages\\kivy\\__init__.py\"\n",
      "[INFO   ] [Python      ] v3.7.4 (default, Aug  9 2019, 18:34:13) [MSC v.1915 64 bit (AMD64)]\n",
      "[INFO   ] [Python      ] Interpreter at \"C:\\Users\\admin\\Anaconda3\\python.exe\"\n"
     ]
    }
   ],
   "source": [
    "from tkinter import *\n",
    "import PIL\n",
    "from PIL import *\n",
    "from PIL import Image, ImageFont, ImageDraw \n",
    "import turtle\n",
    "import kivy"
   ]
  },
  {
   "cell_type": "code",
   "execution_count": 49,
   "metadata": {},
   "outputs": [],
   "source": [
    "apple = np.load('apple.npy')"
   ]
  },
  {
   "cell_type": "code",
   "execution_count": 50,
   "metadata": {},
   "outputs": [
    {
     "data": {
      "text/plain": [
       "array([[0, 0, 0, ..., 0, 0, 0],\n",
       "       [0, 0, 0, ..., 0, 0, 0],\n",
       "       [0, 0, 0, ..., 0, 0, 0],\n",
       "       ...,\n",
       "       [0, 0, 0, ..., 0, 0, 0],\n",
       "       [0, 0, 0, ..., 0, 0, 0],\n",
       "       [0, 0, 0, ..., 0, 0, 0]], dtype=uint8)"
      ]
     },
     "execution_count": 50,
     "metadata": {},
     "output_type": "execute_result"
    }
   ],
   "source": [
    "apple"
   ]
  },
  {
   "cell_type": "code",
   "execution_count": 51,
   "metadata": {},
   "outputs": [
    {
     "data": {
      "text/plain": [
       "(784,)"
      ]
     },
     "execution_count": 51,
     "metadata": {},
     "output_type": "execute_result"
    }
   ],
   "source": [
    "apple[0].shape"
   ]
  },
  {
   "cell_type": "code",
   "execution_count": 52,
   "metadata": {},
   "outputs": [
    {
     "data": {
      "text/plain": [
       "array([0.        , 0.        , 0.        , 0.        , 0.        ,\n",
       "       0.        , 0.        , 0.        , 0.        , 0.        ,\n",
       "       0.        , 0.        , 0.        , 0.        , 0.        ,\n",
       "       0.        , 0.        , 0.        , 0.        , 0.        ,\n",
       "       0.        , 0.        , 0.        , 0.        , 0.        ,\n",
       "       0.        , 0.        , 0.        , 0.        , 0.        ,\n",
       "       0.        , 0.        , 0.        , 0.        , 0.        ,\n",
       "       0.        , 0.        , 0.        , 0.        , 0.        ,\n",
       "       0.        , 0.        , 0.04313725, 0.08235294, 0.04705882,\n",
       "       0.        , 0.        , 0.        , 0.        , 0.        ,\n",
       "       0.        , 0.        , 0.        , 0.36078431, 0.07843137,\n",
       "       0.        , 0.        , 0.        , 0.        , 0.        ,\n",
       "       0.        , 0.        , 0.        , 0.        , 0.        ,\n",
       "       0.        , 0.        , 0.        , 0.35686275, 0.83529412,\n",
       "       0.99215686, 1.        , 1.        , 0.87058824, 0.37254902,\n",
       "       0.01176471, 0.        , 0.        , 0.        , 0.        ,\n",
       "       0.02745098, 1.        , 0.87058824, 0.        , 0.        ,\n",
       "       0.        , 0.        , 0.        , 0.        , 0.        ,\n",
       "       0.        , 0.        , 0.        , 0.        , 0.09411765,\n",
       "       0.74509804, 1.        , 0.76862745, 0.4627451 , 0.39215686,\n",
       "       0.42745098, 0.76862745, 1.        , 0.4745098 , 0.        ,\n",
       "       0.        , 0.        , 0.        , 0.        , 0.55294118,\n",
       "       0.1372549 , 0.        , 0.        , 0.        , 0.        ,\n",
       "       0.        , 0.        , 0.        , 0.        , 0.        ,\n",
       "       0.        , 0.00392157, 0.7254902 , 0.94509804, 0.36862745,\n",
       "       0.00392157, 0.        , 0.        , 0.        , 0.        ,\n",
       "       0.24705882, 0.09803922, 0.        , 0.        , 0.        ,\n",
       "       0.        , 0.        , 0.        , 0.        , 0.        ,\n",
       "       0.        , 0.        , 0.        , 0.        , 0.        ,\n",
       "       0.        , 0.        , 0.        , 0.        , 0.34901961,\n",
       "       1.        , 0.45098039, 0.52156863, 0.58823529, 0.14509804,\n",
       "       0.        , 0.        , 0.        , 0.        , 0.        ,\n",
       "       0.        , 0.        , 0.        , 0.        , 0.        ,\n",
       "       0.        , 0.        , 0.        , 0.        , 0.        ,\n",
       "       0.        , 0.        , 0.        , 0.        , 0.        ,\n",
       "       0.        , 0.        , 0.81176471, 0.94509804, 0.98823529,\n",
       "       1.        , 0.98039216, 0.78039216, 0.        , 0.        ,\n",
       "       0.        , 0.        , 0.        , 0.        , 0.        ,\n",
       "       0.        , 0.        , 0.        , 0.        , 0.        ,\n",
       "       0.        , 0.        , 0.        , 0.        , 0.        ,\n",
       "       0.        , 0.        , 0.        , 0.11764706, 0.78431373,\n",
       "       1.        , 0.94901961, 0.58431373, 0.98823529, 0.90980392,\n",
       "       0.76470588, 0.01176471, 0.        , 0.        , 0.        ,\n",
       "       0.        , 0.        , 0.        , 0.        , 0.        ,\n",
       "       0.        , 0.        , 0.        , 0.        , 0.        ,\n",
       "       0.        , 0.        , 0.        , 0.        , 0.        ,\n",
       "       0.15294118, 0.88235294, 0.93333333, 1.        , 0.33333333,\n",
       "       0.        , 0.46666667, 1.        , 0.3254902 , 0.        ,\n",
       "       0.        , 0.        , 0.        , 0.        , 0.        ,\n",
       "       0.        , 0.        , 0.        , 0.        , 0.        ,\n",
       "       0.        , 0.        , 0.        , 0.        , 0.        ,\n",
       "       0.        , 0.        , 0.16862745, 0.89803922, 0.90588235,\n",
       "       0.41568627, 1.        , 0.19215686, 0.        , 0.00392157,\n",
       "       0.78823529, 0.87058824, 0.02745098, 0.        , 0.        ,\n",
       "       0.        , 0.        , 0.        , 0.        , 0.        ,\n",
       "       0.        , 0.        , 0.        , 0.        , 0.        ,\n",
       "       0.        , 0.        , 0.        , 0.        , 0.12941176,\n",
       "       0.92941176, 0.8627451 , 0.12941176, 0.30980392, 1.        ,\n",
       "       0.29411765, 0.        , 0.        , 0.23921569, 1.        ,\n",
       "       0.36862745, 0.        , 0.        , 0.        , 0.        ,\n",
       "       0.        , 0.        , 0.        , 0.        , 0.        ,\n",
       "       0.        , 0.        , 0.        , 0.        , 0.        ,\n",
       "       0.        , 0.01568627, 0.77254902, 0.92156863, 0.10980392,\n",
       "       0.        , 0.01568627, 0.82352941, 0.65098039, 0.        ,\n",
       "       0.        , 0.00392157, 0.98039216, 0.49803922, 0.        ,\n",
       "       0.        , 0.        , 0.        , 0.        , 0.        ,\n",
       "       0.        , 0.        , 0.        , 0.        , 0.        ,\n",
       "       0.        , 0.        , 0.        , 0.        , 0.50196078,\n",
       "       1.        , 0.33333333, 0.        , 0.        , 0.        ,\n",
       "       0.06666667, 0.0627451 , 0.        , 0.        , 0.        ,\n",
       "       0.90588235, 0.57254902, 0.        , 0.        , 0.        ,\n",
       "       0.        , 0.        , 0.        , 0.        , 0.        ,\n",
       "       0.        , 0.        , 0.        , 0.        , 0.        ,\n",
       "       0.        , 0.21960784, 0.98431373, 0.6       , 0.        ,\n",
       "       0.        , 0.        , 0.        , 0.        , 0.        ,\n",
       "       0.        , 0.        , 0.        , 0.89411765, 0.58039216,\n",
       "       0.        , 0.        , 0.        , 0.        , 0.        ,\n",
       "       0.        , 0.        , 0.        , 0.        , 0.        ,\n",
       "       0.        , 0.        , 0.        , 0.        , 0.63529412,\n",
       "       0.89803922, 0.04313725, 0.        , 0.        , 0.        ,\n",
       "       0.        , 0.        , 0.        , 0.        , 0.        ,\n",
       "       0.        , 0.96470588, 0.51372549, 0.        , 0.        ,\n",
       "       0.        , 0.        , 0.        , 0.        , 0.        ,\n",
       "       0.        , 0.        , 0.        , 0.        , 0.        ,\n",
       "       0.        , 0.        , 0.85882353, 0.64705882, 0.        ,\n",
       "       0.        , 0.        , 0.        , 0.        , 0.        ,\n",
       "       0.        , 0.        , 0.        , 0.05098039, 1.        ,\n",
       "       0.43529412, 0.        , 0.        , 0.        , 0.        ,\n",
       "       0.        , 0.        , 0.        , 0.        , 0.        ,\n",
       "       0.        , 0.        , 0.        , 0.        , 0.08235294,\n",
       "       0.99607843, 0.42745098, 0.        , 0.        , 0.        ,\n",
       "       0.        , 0.        , 0.        , 0.        , 0.        ,\n",
       "       0.        , 0.30588235, 1.        , 0.22745098, 0.        ,\n",
       "       0.        , 0.        , 0.        , 0.        , 0.        ,\n",
       "       0.        , 0.        , 0.        , 0.        , 0.        ,\n",
       "       0.        , 0.        , 0.30588235, 1.        , 0.2       ,\n",
       "       0.        , 0.        , 0.        , 0.        , 0.        ,\n",
       "       0.        , 0.        , 0.        , 0.        , 0.59607843,\n",
       "       0.92941176, 0.01176471, 0.        , 0.        , 0.        ,\n",
       "       0.        , 0.        , 0.        , 0.        , 0.        ,\n",
       "       0.        , 0.        , 0.        , 0.        , 0.        ,\n",
       "       0.47058824, 0.99607843, 0.01960784, 0.        , 0.        ,\n",
       "       0.        , 0.        , 0.        , 0.        , 0.        ,\n",
       "       0.        , 0.01176471, 0.89411765, 0.64705882, 0.        ,\n",
       "       0.        , 0.        , 0.        , 0.        , 0.        ,\n",
       "       0.        , 0.        , 0.        , 0.        , 0.        ,\n",
       "       0.        , 0.        , 0.        , 0.48235294, 0.99607843,\n",
       "       0.        , 0.        , 0.        , 0.        , 0.        ,\n",
       "       0.        , 0.        , 0.        , 0.        , 0.28235294,\n",
       "       1.        , 0.29019608, 0.        , 0.        , 0.        ,\n",
       "       0.        , 0.        , 0.        , 0.        , 0.        ,\n",
       "       0.        , 0.        , 0.        , 0.        , 0.        ,\n",
       "       0.        , 0.44705882, 1.        , 0.05098039, 0.        ,\n",
       "       0.        , 0.        , 0.        , 0.        , 0.        ,\n",
       "       0.        , 0.        , 0.6627451 , 0.89803922, 0.01176471,\n",
       "       0.        , 0.        , 0.        , 0.        , 0.        ,\n",
       "       0.        , 0.        , 0.        , 0.        , 0.        ,\n",
       "       0.        , 0.        , 0.        , 0.        , 0.23529412,\n",
       "       1.        , 0.2745098 , 0.        , 0.        , 0.        ,\n",
       "       0.        , 0.        , 0.        , 0.        , 0.20784314,\n",
       "       0.98823529, 0.50588235, 0.        , 0.        , 0.        ,\n",
       "       0.        , 0.        , 0.        , 0.        , 0.        ,\n",
       "       0.        , 0.        , 0.        , 0.        , 0.        ,\n",
       "       0.        , 0.        , 0.02745098, 0.9372549 , 0.68235294,\n",
       "       0.        , 0.        , 0.        , 0.        , 0.        ,\n",
       "       0.        , 0.02352941, 0.81568627, 0.87058824, 0.04313725,\n",
       "       0.        , 0.        , 0.        , 0.        , 0.        ,\n",
       "       0.        , 0.        , 0.        , 0.        , 0.        ,\n",
       "       0.        , 0.        , 0.        , 0.        , 0.        ,\n",
       "       0.        , 0.43137255, 1.        , 0.39215686, 0.        ,\n",
       "       0.        , 0.        , 0.        , 0.01176471, 0.66666667,\n",
       "       0.99215686, 0.2745098 , 0.        , 0.        , 0.        ,\n",
       "       0.        , 0.        , 0.        , 0.        , 0.        ,\n",
       "       0.        , 0.        , 0.        , 0.        , 0.        ,\n",
       "       0.        , 0.        , 0.        , 0.        , 0.01176471,\n",
       "       0.70588235, 1.        , 0.69803922, 0.38823529, 0.26666667,\n",
       "       0.35686275, 0.78431373, 0.99607843, 0.40784314, 0.        ,\n",
       "       0.        , 0.        , 0.        , 0.        , 0.        ,\n",
       "       0.        , 0.        , 0.        , 0.        , 0.        ,\n",
       "       0.        , 0.        , 0.        , 0.        , 0.        ,\n",
       "       0.        , 0.        , 0.        , 0.00784314, 0.45490196,\n",
       "       0.87058824, 1.        , 1.        , 1.        , 0.83529412,\n",
       "       0.34117647, 0.        , 0.        , 0.        , 0.        ,\n",
       "       0.        , 0.        , 0.        , 0.        , 0.        ,\n",
       "       0.        , 0.        , 0.        , 0.        , 0.        ,\n",
       "       0.        , 0.        , 0.        , 0.        , 0.        ,\n",
       "       0.        , 0.        , 0.        , 0.        , 0.1254902 ,\n",
       "       0.2       , 0.17254902, 0.00392157, 0.        , 0.        ,\n",
       "       0.        , 0.        , 0.        , 0.        , 0.        ,\n",
       "       0.        , 0.        , 0.        , 0.        , 0.        ,\n",
       "       0.        , 0.        , 0.        , 0.        , 0.        ,\n",
       "       0.        , 0.        , 0.        , 0.        , 0.        ,\n",
       "       0.        , 0.        , 0.        , 0.        , 0.        ,\n",
       "       0.        , 0.        , 0.        , 0.        , 0.        ,\n",
       "       0.        , 0.        , 0.        , 0.        , 0.        ,\n",
       "       0.        , 0.        , 0.        , 0.        , 0.        ,\n",
       "       0.        , 0.        , 0.        , 0.        ])"
      ]
     },
     "execution_count": 52,
     "metadata": {},
     "output_type": "execute_result"
    }
   ],
   "source": [
    "apple=apple/255\n",
    "apple[0]"
   ]
  },
  {
   "cell_type": "code",
   "execution_count": 53,
   "metadata": {},
   "outputs": [
    {
     "name": "stdout",
     "output_type": "stream",
     "text": [
      "Train on 50 samples\n",
      "Epoch 1/5\n",
      "50/50 [==============================] - 7s 135ms/sample - loss: 2.0566 - accuracy: 0.6400\n",
      "Epoch 2/5\n",
      "50/50 [==============================] - 0s 220us/sample - loss: 1.7517 - accuracy: 1.0000\n",
      "Epoch 3/5\n",
      "50/50 [==============================] - 0s 230us/sample - loss: 1.5653 - accuracy: 1.0000\n",
      "Epoch 4/5\n",
      "50/50 [==============================] - 0s 260us/sample - loss: 1.3826 - accuracy: 1.0000\n",
      "Epoch 5/5\n",
      "50/50 [==============================] - 0s 220us/sample - loss: 1.1768 - accuracy: 1.0000\n"
     ]
    },
    {
     "data": {
      "text/plain": [
       "<tensorflow.python.keras.callbacks.History at 0x1d0bf950fc8>"
      ]
     },
     "execution_count": 53,
     "metadata": {},
     "output_type": "execute_result"
    }
   ],
   "source": [
    "apple_y=np.array([0]*len(apple[:50]))\n",
    "apple_x=apple[:50]\n",
    "model_objects=keras.Sequential([\n",
    "     keras.layers.Dense(100,input_shape=(784,),activation='relu'),\n",
    "     keras.layers.Dense(10,activation='sigmoid')#hidden layer\n",
    "])\n",
    "model_objects.compile(\n",
    "    optimizer='adam',\n",
    "    loss='sparse_categorical_crossentropy',\n",
    "    metrics=['accuracy']\n",
    ")\n",
    "model_objects.fit(apple_x,apple_y,epochs=5)"
   ]
  },
  {
   "cell_type": "code",
   "execution_count": 54,
   "metadata": {},
   "outputs": [],
   "source": [
    "apple_test=apple[50:70]\n",
    "apple_y_test=np.array([0]*len(apple_test))"
   ]
  },
  {
   "cell_type": "code",
   "execution_count": 55,
   "metadata": {},
   "outputs": [
    {
     "data": {
      "text/plain": [
       "array([0.        , 0.        , 0.        , 0.        , 0.        ,\n",
       "       0.        , 0.        , 0.        , 0.        , 0.        ,\n",
       "       0.        , 0.        , 0.        , 0.        , 0.        ,\n",
       "       0.        , 0.        , 0.        , 0.        , 0.        ,\n",
       "       0.        , 0.        , 0.        , 0.        , 0.        ,\n",
       "       0.        , 0.        , 0.        , 0.        , 0.        ,\n",
       "       0.        , 0.        , 0.        , 0.        , 0.        ,\n",
       "       0.        , 0.        , 0.05490196, 0.33333333, 0.        ,\n",
       "       0.        , 0.        , 0.        , 0.        , 0.        ,\n",
       "       0.        , 0.        , 0.        , 0.        , 0.        ,\n",
       "       0.        , 0.        , 0.        , 0.        , 0.        ,\n",
       "       0.        , 0.        , 0.        , 0.        , 0.        ,\n",
       "       0.        , 0.        , 0.        , 0.        , 0.        ,\n",
       "       0.29019608, 1.        , 0.23137255, 0.        , 0.        ,\n",
       "       0.        , 0.        , 0.        , 0.        , 0.        ,\n",
       "       0.        , 0.        , 0.        , 0.        , 0.        ,\n",
       "       0.        , 0.        , 0.        , 0.        , 0.        ,\n",
       "       0.        , 0.        , 0.        , 0.        , 0.        ,\n",
       "       0.        , 0.        , 0.        , 0.02352941, 0.91764706,\n",
       "       0.62352941, 0.        , 0.        , 0.        , 0.        ,\n",
       "       0.        , 0.        , 0.        , 0.        , 0.        ,\n",
       "       0.        , 0.        , 0.        , 0.        , 0.        ,\n",
       "       0.        , 0.        , 0.        , 0.        , 0.        ,\n",
       "       0.        , 0.        , 0.        , 0.        , 0.        ,\n",
       "       0.        , 0.        , 0.56078431, 0.96470588, 0.0627451 ,\n",
       "       0.        , 0.        , 0.        , 0.        , 0.        ,\n",
       "       0.        , 0.        , 0.        , 0.        , 0.        ,\n",
       "       0.        , 0.        , 0.        , 0.        , 0.        ,\n",
       "       0.        , 0.        , 0.        , 0.        , 0.        ,\n",
       "       0.        , 0.        , 0.        , 0.        , 0.        ,\n",
       "       0.16470588, 1.        , 0.41568627, 0.        , 0.        ,\n",
       "       0.10980392, 0.39607843, 0.53333333, 0.52941176, 0.45490196,\n",
       "       0.22745098, 0.00392157, 0.        , 0.        , 0.        ,\n",
       "       0.        , 0.        , 0.        , 0.        , 0.        ,\n",
       "       0.        , 0.        , 0.        , 0.36470588, 0.97254902,\n",
       "       1.        , 0.85098039, 0.54117647, 0.22745098, 0.8       ,\n",
       "       0.74117647, 0.        , 0.23137255, 0.95294118, 1.        ,\n",
       "       0.94117647, 0.94509804, 1.        , 1.        , 0.86666667,\n",
       "       0.20392157, 0.        , 0.        , 0.        , 0.        ,\n",
       "       0.        , 0.        , 0.        , 0.        , 0.        ,\n",
       "       0.42745098, 0.99607843, 0.72941176, 0.4745098 , 0.69019608,\n",
       "       0.96470588, 1.        , 0.98823529, 0.95686275, 0.23529412,\n",
       "       0.94117647, 0.82745098, 0.1372549 , 0.        , 0.        ,\n",
       "       0.03529412, 0.33333333, 0.84705882, 0.9372549 , 0.16078431,\n",
       "       0.        , 0.        , 0.        , 0.        , 0.        ,\n",
       "       0.        , 0.        , 0.47843137, 1.        , 0.65098039,\n",
       "       0.01960784, 0.        , 0.        , 0.03921569, 0.41568627,\n",
       "       0.98823529, 1.        , 1.        , 0.85098039, 0.09411765,\n",
       "       0.        , 0.        , 0.        , 0.        , 0.        ,\n",
       "       0.10196078, 0.89019608, 0.84705882, 0.05882353, 0.        ,\n",
       "       0.        , 0.        , 0.        , 0.        , 0.13333333,\n",
       "       0.99607843, 0.61568627, 0.00784314, 0.        , 0.        ,\n",
       "       0.        , 0.        , 0.        , 0.59607843, 0.98431373,\n",
       "       0.54901961, 0.0627451 , 0.        , 0.        , 0.        ,\n",
       "       0.        , 0.        , 0.        , 0.        , 0.20784314,\n",
       "       0.96862745, 0.61568627, 0.        , 0.        , 0.        ,\n",
       "       0.        , 0.        , 0.49803922, 0.98431373, 0.09019608,\n",
       "       0.        , 0.        , 0.        , 0.        , 0.        ,\n",
       "       0.        , 0.        , 0.05098039, 0.        , 0.        ,\n",
       "       0.        , 0.        , 0.        , 0.        , 0.        ,\n",
       "       0.        , 0.        , 0.        , 0.54117647, 0.97647059,\n",
       "       0.09411765, 0.        , 0.        , 0.        , 0.        ,\n",
       "       0.85098039, 0.70196078, 0.        , 0.        , 0.        ,\n",
       "       0.        , 0.        , 0.        , 0.        , 0.        ,\n",
       "       0.        , 0.        , 0.        , 0.        , 0.        ,\n",
       "       0.        , 0.        , 0.        , 0.        , 0.        ,\n",
       "       0.        , 0.10588235, 0.98039216, 0.50588235, 0.        ,\n",
       "       0.        , 0.        , 0.20784314, 1.        , 0.3372549 ,\n",
       "       0.        , 0.        , 0.        , 0.        , 0.        ,\n",
       "       0.        , 0.        , 0.        , 0.        , 0.        ,\n",
       "       0.        , 0.        , 0.        , 0.        , 0.        ,\n",
       "       0.        , 0.        , 0.        , 0.        , 0.        ,\n",
       "       0.67058824, 0.89411765, 0.        , 0.        , 0.        ,\n",
       "       0.29803922, 1.        , 0.18039216, 0.        , 0.29803922,\n",
       "       0.80392157, 0.00784314, 0.        , 0.        , 0.        ,\n",
       "       0.        , 0.        , 0.        , 0.        , 0.        ,\n",
       "       0.        , 0.        , 0.        , 0.        , 0.        ,\n",
       "       0.        , 0.        , 0.        , 0.4       , 1.        ,\n",
       "       0.10196078, 0.        , 0.        , 0.29803922, 1.        ,\n",
       "       0.18039216, 0.        , 0.73333333, 0.83137255, 0.        ,\n",
       "       0.        , 0.        , 0.        , 0.        , 0.        ,\n",
       "       0.        , 0.        , 0.        , 0.        , 0.        ,\n",
       "       0.        , 0.        , 0.        , 0.        , 0.        ,\n",
       "       0.        , 0.21960784, 1.        , 0.28235294, 0.        ,\n",
       "       0.        , 0.29803922, 1.        , 0.18039216, 0.        ,\n",
       "       0.5254902 , 0.31372549, 0.        , 0.        , 0.        ,\n",
       "       0.        , 0.        , 0.        , 0.        , 0.        ,\n",
       "       0.        , 0.        , 0.        , 0.        , 0.        ,\n",
       "       0.        , 0.        , 0.        , 0.        , 0.05882353,\n",
       "       1.        , 0.43921569, 0.        , 0.        , 0.29803922,\n",
       "       1.        , 0.18039216, 0.        , 0.        , 0.        ,\n",
       "       0.        , 0.        , 0.        , 0.        , 0.        ,\n",
       "       0.        , 0.        , 0.        , 0.        , 0.        ,\n",
       "       0.        , 0.        , 0.        , 0.        , 0.        ,\n",
       "       0.        , 0.        , 0.15686275, 1.        , 0.3372549 ,\n",
       "       0.        , 0.        , 0.29019608, 1.        , 0.22352941,\n",
       "       0.        , 0.        , 0.        , 0.        , 0.        ,\n",
       "       0.        , 0.        , 0.        , 0.        , 0.        ,\n",
       "       0.        , 0.        , 0.        , 0.        , 0.        ,\n",
       "       0.        , 0.        , 0.        , 0.        , 0.        ,\n",
       "       0.33333333, 1.        , 0.16862745, 0.        , 0.        ,\n",
       "       0.07058824, 0.94117647, 0.65490196, 0.        , 0.        ,\n",
       "       0.        , 0.        , 0.        , 0.        , 0.        ,\n",
       "       0.        , 0.        , 0.        , 0.        , 0.        ,\n",
       "       0.        , 0.        , 0.        , 0.        , 0.        ,\n",
       "       0.        , 0.        , 0.        , 0.55294118, 0.96862745,\n",
       "       0.01960784, 0.        , 0.        , 0.        , 0.48627451,\n",
       "       0.99215686, 0.18431373, 0.        , 0.        , 0.        ,\n",
       "       0.        , 0.        , 0.        , 0.        , 0.        ,\n",
       "       0.        , 0.        , 0.        , 0.        , 0.        ,\n",
       "       0.        , 0.        , 0.        , 0.        , 0.        ,\n",
       "       0.11372549, 0.96078431, 0.62745098, 0.        , 0.        ,\n",
       "       0.        , 0.        , 0.04705882, 0.91372549, 0.70980392,\n",
       "       0.        , 0.        , 0.        , 0.        , 0.        ,\n",
       "       0.        , 0.        , 0.        , 0.        , 0.        ,\n",
       "       0.        , 0.        , 0.        , 0.        , 0.        ,\n",
       "       0.        , 0.        , 0.        , 0.65882353, 0.94901961,\n",
       "       0.09803922, 0.        , 0.        , 0.        , 0.        ,\n",
       "       0.        , 0.41568627, 1.        , 0.4627451 , 0.        ,\n",
       "       0.        , 0.        , 0.        , 0.        , 0.        ,\n",
       "       0.        , 0.        , 0.        , 0.        , 0.        ,\n",
       "       0.        , 0.        , 0.        , 0.        , 0.        ,\n",
       "       0.2745098 , 0.99607843, 0.4627451 , 0.        , 0.        ,\n",
       "       0.        , 0.        , 0.        , 0.        , 0.00392157,\n",
       "       0.61568627, 0.99607843, 0.35294118, 0.        , 0.        ,\n",
       "       0.        , 0.        , 0.        , 0.        , 0.        ,\n",
       "       0.        , 0.        , 0.        , 0.        , 0.        ,\n",
       "       0.        , 0.15686275, 0.4745098 , 0.96470588, 0.8       ,\n",
       "       0.02352941, 0.        , 0.        , 0.        , 0.        ,\n",
       "       0.        , 0.        , 0.        , 0.01568627, 0.71372549,\n",
       "       0.98039216, 0.52156863, 0.03921569, 0.        , 0.        ,\n",
       "       0.        , 0.        , 0.        , 0.        , 0.08235294,\n",
       "       0.23137255, 0.38431373, 0.56078431, 0.85882353, 1.        ,\n",
       "       0.99215686, 0.70588235, 0.0627451 , 0.        , 0.        ,\n",
       "       0.        , 0.        , 0.        , 0.        , 0.        ,\n",
       "       0.        , 0.        , 0.03921569, 0.59215686, 0.99215686,\n",
       "       0.9372549 , 0.66666667, 0.37647059, 0.15686275, 0.44705882,\n",
       "       0.77647059, 0.93333333, 1.        , 1.        , 1.        ,\n",
       "       0.94901961, 0.68235294, 0.38431373, 0.09019608, 0.        ,\n",
       "       0.        , 0.        , 0.        , 0.        , 0.        ,\n",
       "       0.        , 0.        , 0.        , 0.        , 0.        ,\n",
       "       0.        , 0.        , 0.2       , 0.58039216, 0.87058824,\n",
       "       1.        , 1.        , 0.99607843, 0.76078431, 0.55686275,\n",
       "       0.40784314, 0.2627451 , 0.11372549, 0.00392157, 0.        ,\n",
       "       0.        , 0.        , 0.        , 0.        , 0.        ,\n",
       "       0.        , 0.        , 0.        , 0.        , 0.        ,\n",
       "       0.        , 0.        , 0.        , 0.        , 0.        ,\n",
       "       0.        , 0.        , 0.        , 0.15686275, 0.37254902,\n",
       "       0.13333333, 0.        , 0.        , 0.        , 0.        ,\n",
       "       0.        , 0.        , 0.        , 0.        , 0.        ,\n",
       "       0.        , 0.        , 0.        , 0.        , 0.        ,\n",
       "       0.        , 0.        , 0.        , 0.        , 0.        ,\n",
       "       0.        , 0.        , 0.        , 0.        , 0.        ,\n",
       "       0.        , 0.        , 0.        , 0.        , 0.        ,\n",
       "       0.        , 0.        , 0.        , 0.        , 0.        ,\n",
       "       0.        , 0.        , 0.        , 0.        , 0.        ,\n",
       "       0.        , 0.        , 0.        , 0.        ])"
      ]
     },
     "execution_count": 55,
     "metadata": {},
     "output_type": "execute_result"
    }
   ],
   "source": [
    "apple_test[0]"
   ]
  },
  {
   "cell_type": "code",
   "execution_count": 56,
   "metadata": {},
   "outputs": [
    {
     "data": {
      "text/plain": [
       "<matplotlib.image.AxesImage at 0x1d0fcbbbf88>"
      ]
     },
     "execution_count": 56,
     "metadata": {},
     "output_type": "execute_result"
    },
    {
     "data": {
      "image/png": "[encoded data removed]",
      "text/plain": [
       "<Figure size 432x288 with 1 Axes>"
      ]
     },
     "metadata": {
      "needs_background": "light"
     },
     "output_type": "display_data"
    }
   ],
   "source": [
    "plt.imshow(apple_test)"
   ]
  },
  {
   "cell_type": "code",
   "execution_count": 60,
   "metadata": {},
   "outputs": [],
   "source": [
    "import os\n",
    "import cv2\n",
    "shapes={'circle':0,'square':1, \"triangle\": 2}\n",
    "X = []\n",
    "y = []\n",
    "\n",
    "X_train_t = []\n",
    "y_train_t = []\n",
    "X_test_t = []\n",
    "y_test_t = []\n",
    "\n",
    "for shape in shapes:\n",
    "    pth='C:/Users/admin/Downloads/shapes'+'/'+shape\n",
    "    temp_shape = []\n",
    "    temp_target = []\n",
    "    for j in os.listdir(pth):\n",
    "        img=cv2.imread(pth+'/'+j,0)\n",
    "        img=cv2.resize(img,(28,28))\n",
    "        temp_shape.append(img)\n",
    "        temp_target.append(shapes[shape])\n",
    "        X.append(img)\n",
    "        y.append(shapes[shape])\n",
    "    X_train_t.extend(temp_shape[:int(len(temp_shape) * 0.8)])\n",
    "    y_train_t.extend(temp_target[:int(len(temp_target) * 0.8)])\n",
    "    X_test_t.extend(temp_shape[int(len(temp_shape) * 0.8):])\n",
    "    y_test_t.extend(temp_target[int(len(temp_target) * 0.8):])"
   ]
  },
  {
   "cell_type": "code",
   "execution_count": 62,
   "metadata": {},
   "outputs": [],
   "source": [
    "model_n=keras.Sequential([\n",
    "     keras.layers.Flatten(input_shape=(28,28)),#to flatten the image in the model it self\n",
    "     keras.layers.Dense(100,activation='relu'),\n",
    "     keras.layers.Dense(3,activation='sigmoid')#hidden layer\n",
    "])\n",
    "model_n.compile(\n",
    "    optimizer='adam',\n",
    "    loss='sparse_categorical_crossentropy',\n",
    "    metrics=['accuracy']\n",
    ")"
   ]
  },
  {
   "cell_type": "code",
   "execution_count": 68,
   "metadata": {},
   "outputs": [],
   "source": [
    "array_x = np.array(X_train_t)"
   ]
  },
  {
   "cell_type": "code",
   "execution_count": 70,
   "metadata": {},
   "outputs": [],
   "source": [
    "array_y=np.array(y_train_t)"
   ]
  },
  {
   "cell_type": "code",
   "execution_count": 72,
   "metadata": {},
   "outputs": [],
   "source": [
    "arrayxt=np.array(X_test_t)\n",
    "arrayyt=np.array(y_test_t)\n",
    "array_x=array_x/255\n",
    "arrayxt=arrayxt/255"
   ]
  },
  {
   "cell_type": "code",
   "execution_count": 73,
   "metadata": {},
   "outputs": [
    {
     "name": "stdout",
     "output_type": "stream",
     "text": [
      "Train on 8964 samples\n",
      "Epoch 1/5\n",
      "8964/8964 [==============================] - 7s 803us/sample - loss: 0.1673 - accuracy: 0.9421\n",
      "Epoch 2/5\n",
      "8964/8964 [==============================] - 1s 101us/sample - loss: 0.0429 - accuracy: 0.9921\n",
      "Epoch 3/5\n",
      "8964/8964 [==============================] - 1s 104us/sample - loss: 0.0417 - accuracy: 0.9901\n",
      "Epoch 4/5\n",
      "8964/8964 [==============================] - 1s 103us/sample - loss: 0.0273 - accuracy: 0.9946\n",
      "Epoch 5/5\n",
      "8964/8964 [==============================] - 1s 111us/sample - loss: 0.0335 - accuracy: 0.9904\n"
     ]
    },
    {
     "data": {
      "text/plain": [
       "<tensorflow.python.keras.callbacks.History at 0x1d0fe698488>"
      ]
     },
     "execution_count": 73,
     "metadata": {},
     "output_type": "execute_result"
    }
   ],
   "source": [
    "model_n.fit(array_x,array_y,epochs=5)"
   ]
  },
  {
   "cell_type": "code",
   "execution_count": 77,
   "metadata": {},
   "outputs": [],
   "source": [
    "a=model_n.predict([arrayxt])"
   ]
  },
  {
   "cell_type": "code",
   "execution_count": 80,
   "metadata": {},
   "outputs": [
    {
     "data": {
      "text/plain": [
       "1"
      ]
     },
     "execution_count": 80,
     "metadata": {},
     "output_type": "execute_result"
    }
   ],
   "source": [
    "np.argmax(a[1000])"
   ]
  },
  {
   "cell_type": "code",
   "execution_count": 81,
   "metadata": {},
   "outputs": [
    {
     "data": {
      "text/plain": [
       "<matplotlib.image.AxesImage at 0x1d0fe99b148>"
      ]
     },
     "execution_count": 81,
     "metadata": {},
     "output_type": "execute_result"
    },
    {
     "data": {
      "image/png": "[encoded data removed]",
      "text/plain": [
       "<Figure size 432x288 with 1 Axes>"
      ]
     },
     "metadata": {
      "needs_background": "light"
     },
     "output_type": "display_data"
    }
   ],
   "source": [
    "plt.imshow(arrayxt[1000])"
   ]
  },
  {
   "cell_type": "code",
   "execution_count": 87,
   "metadata": {},
   "outputs": [],
   "source": [
    "input_img=cv2.imread('test_image.png')"
   ]
  },
  {
   "cell_type": "code",
   "execution_count": 88,
   "metadata": {},
   "outputs": [
    {
     "data": {
      "text/plain": [
       "<matplotlib.image.AxesImage at 0x1d0febef148>"
      ]
     },
     "execution_count": 88,
     "metadata": {},
     "output_type": "execute_result"
    },
    {
     "data": {
      "image/png": "[encoded data removed]",
      "text/plain": [
       "<Figure size 432x288 with 1 Axes>"
      ]
     },
     "metadata": {
      "needs_background": "light"
     },
     "output_type": "display_data"
    }
   ],
   "source": [
    "plt.imshow(input_img)"
   ]
  },
  {
   "cell_type": "code",
   "execution_count": 90,
   "metadata": {},
   "outputs": [],
   "source": [
    "gray = cv2.cvtColor(input_img, cv2.COLOR_BGR2GRAY)"
   ]
  },
  {
   "cell_type": "code",
   "execution_count": 91,
   "metadata": {},
   "outputs": [
    {
     "data": {
      "text/plain": [
       "<matplotlib.image.AxesImage at 0x1d0fec4bf08>"
      ]
     },
     "execution_count": 91,
     "metadata": {},
     "output_type": "execute_result"
    },
    {
     "data": {
      "image/png": "[encoded data removed]",
      "text/plain": [
       "<Figure size 432x288 with 1 Axes>"
      ]
     },
     "metadata": {
      "needs_background": "light"
     },
     "output_type": "display_data"
    }
   ],
   "source": [
    "resized = cv2.resize(gray, (28,28))\n",
    "plt.imshow(resized)"
   ]
  },
  {
   "cell_type": "code",
   "execution_count": 93,
   "metadata": {},
   "outputs": [
    {
     "data": {
      "text/plain": [
       "array([[[[0.        ],\n",
       "         [0.        ],\n",
       "         [0.        ],\n",
       "         [0.        ],\n",
       "         [0.        ],\n",
       "         [0.        ],\n",
       "         [0.        ],\n",
       "         [0.        ],\n",
       "         [0.        ],\n",
       "         [0.        ],\n",
       "         [0.        ],\n",
       "         [0.        ],\n",
       "         [0.        ],\n",
       "         [0.        ],\n",
       "         [0.        ],\n",
       "         [0.        ],\n",
       "         [0.        ],\n",
       "         [0.        ],\n",
       "         [0.        ],\n",
       "         [0.        ],\n",
       "         [0.        ],\n",
       "         [0.        ],\n",
       "         [0.        ],\n",
       "         [0.        ],\n",
       "         [0.        ],\n",
       "         [0.        ],\n",
       "         [0.        ],\n",
       "         [0.        ]],\n",
       "\n",
       "        [[0.        ],\n",
       "         [0.        ],\n",
       "         [0.        ],\n",
       "         [0.        ],\n",
       "         [0.        ],\n",
       "         [0.        ],\n",
       "         [0.        ],\n",
       "         [0.        ],\n",
       "         [0.        ],\n",
       "         [0.        ],\n",
       "         [0.        ],\n",
       "         [0.        ],\n",
       "         [0.        ],\n",
       "         [0.        ],\n",
       "         [0.        ],\n",
       "         [0.        ],\n",
       "         [0.        ],\n",
       "         [0.        ],\n",
       "         [0.        ],\n",
       "         [0.        ],\n",
       "         [0.        ],\n",
       "         [0.        ],\n",
       "         [0.        ],\n",
       "         [0.        ],\n",
       "         [0.        ],\n",
       "         [0.        ],\n",
       "         [0.        ],\n",
       "         [0.        ]],\n",
       "\n",
       "        [[0.        ],\n",
       "         [0.        ],\n",
       "         [0.        ],\n",
       "         [0.        ],\n",
       "         [0.        ],\n",
       "         [0.        ],\n",
       "         [0.        ],\n",
       "         [0.        ],\n",
       "         [0.        ],\n",
       "         [0.        ],\n",
       "         [0.        ],\n",
       "         [0.        ],\n",
       "         [0.        ],\n",
       "         [0.        ],\n",
       "         [0.        ],\n",
       "         [0.        ],\n",
       "         [0.        ],\n",
       "         [0.        ],\n",
       "         [0.        ],\n",
       "         [0.        ],\n",
       "         [0.        ],\n",
       "         [0.        ],\n",
       "         [0.        ],\n",
       "         [0.        ],\n",
       "         [0.        ],\n",
       "         [0.        ],\n",
       "         [0.        ],\n",
       "         [0.        ]],\n",
       "\n",
       "        [[0.        ],\n",
       "         [0.        ],\n",
       "         [0.        ],\n",
       "         [0.        ],\n",
       "         [0.        ],\n",
       "         [0.        ],\n",
       "         [0.        ],\n",
       "         [0.        ],\n",
       "         [0.        ],\n",
       "         [0.        ],\n",
       "         [0.        ],\n",
       "         [0.        ],\n",
       "         [0.        ],\n",
       "         [0.        ],\n",
       "         [0.        ],\n",
       "         [1.        ],\n",
       "         [0.        ],\n",
       "         [0.        ],\n",
       "         [0.        ],\n",
       "         [0.        ],\n",
       "         [0.        ],\n",
       "         [0.        ],\n",
       "         [0.        ],\n",
       "         [0.        ],\n",
       "         [0.        ],\n",
       "         [0.        ],\n",
       "         [0.        ],\n",
       "         [0.        ]],\n",
       "\n",
       "        [[0.        ],\n",
       "         [0.        ],\n",
       "         [0.        ],\n",
       "         [0.        ],\n",
       "         [0.        ],\n",
       "         [0.        ],\n",
       "         [0.        ],\n",
       "         [0.        ],\n",
       "         [0.        ],\n",
       "         [0.        ],\n",
       "         [0.40824829],\n",
       "         [0.40824829],\n",
       "         [0.40824829],\n",
       "         [0.        ],\n",
       "         [0.40824829],\n",
       "         [0.40824829],\n",
       "         [0.40824829],\n",
       "         [0.        ],\n",
       "         [0.        ],\n",
       "         [0.        ],\n",
       "         [0.        ],\n",
       "         [0.        ],\n",
       "         [0.        ],\n",
       "         [0.        ],\n",
       "         [0.        ],\n",
       "         [0.        ],\n",
       "         [0.        ],\n",
       "         [0.        ]],\n",
       "\n",
       "        [[0.        ],\n",
       "         [0.        ],\n",
       "         [0.        ],\n",
       "         [0.        ],\n",
       "         [0.        ],\n",
       "         [0.        ],\n",
       "         [0.        ],\n",
       "         [0.        ],\n",
       "         [0.        ],\n",
       "         [0.35355339],\n",
       "         [0.35355339],\n",
       "         [0.35355339],\n",
       "         [0.35355339],\n",
       "         [0.35355339],\n",
       "         [0.35355339],\n",
       "         [0.35355339],\n",
       "         [0.35355339],\n",
       "         [0.        ],\n",
       "         [0.        ],\n",
       "         [0.        ],\n",
       "         [0.        ],\n",
       "         [0.        ],\n",
       "         [0.        ],\n",
       "         [0.        ],\n",
       "         [0.        ],\n",
       "         [0.        ],\n",
       "         [0.        ],\n",
       "         [0.        ]],\n",
       "\n",
       "        [[0.        ],\n",
       "         [0.        ],\n",
       "         [0.        ],\n",
       "         [0.        ],\n",
       "         [0.        ],\n",
       "         [0.        ],\n",
       "         [0.        ],\n",
       "         [0.        ],\n",
       "         [0.31622777],\n",
       "         [0.31622777],\n",
       "         [0.31622777],\n",
       "         [0.31622777],\n",
       "         [0.31622777],\n",
       "         [0.31622777],\n",
       "         [0.31622777],\n",
       "         [0.31622777],\n",
       "         [0.31622777],\n",
       "         [0.31622777],\n",
       "         [0.        ],\n",
       "         [0.        ],\n",
       "         [0.        ],\n",
       "         [0.        ],\n",
       "         [0.        ],\n",
       "         [0.        ],\n",
       "         [0.        ],\n",
       "         [0.        ],\n",
       "         [0.        ],\n",
       "         [0.        ]],\n",
       "\n",
       "        [[0.        ],\n",
       "         [0.        ],\n",
       "         [0.        ],\n",
       "         [0.        ],\n",
       "         [0.        ],\n",
       "         [0.        ],\n",
       "         [0.        ],\n",
       "         [0.        ],\n",
       "         [0.31622777],\n",
       "         [0.31622777],\n",
       "         [0.31622777],\n",
       "         [0.31622777],\n",
       "         [0.31622777],\n",
       "         [0.31622777],\n",
       "         [0.31622777],\n",
       "         [0.31622777],\n",
       "         [0.31622777],\n",
       "         [0.31622777],\n",
       "         [0.        ],\n",
       "         [0.        ],\n",
       "         [0.        ],\n",
       "         [0.        ],\n",
       "         [0.        ],\n",
       "         [0.        ],\n",
       "         [0.        ],\n",
       "         [0.        ],\n",
       "         [0.        ],\n",
       "         [0.        ]],\n",
       "\n",
       "        [[0.        ],\n",
       "         [0.        ],\n",
       "         [0.        ],\n",
       "         [0.        ],\n",
       "         [0.        ],\n",
       "         [0.        ],\n",
       "         [0.        ],\n",
       "         [0.        ],\n",
       "         [0.31622777],\n",
       "         [0.31622777],\n",
       "         [0.31622777],\n",
       "         [0.31622777],\n",
       "         [0.31622777],\n",
       "         [0.31622777],\n",
       "         [0.31622777],\n",
       "         [0.31622777],\n",
       "         [0.31622777],\n",
       "         [0.31622777],\n",
       "         [0.        ],\n",
       "         [0.        ],\n",
       "         [0.        ],\n",
       "         [0.        ],\n",
       "         [0.        ],\n",
       "         [0.        ],\n",
       "         [0.        ],\n",
       "         [0.        ],\n",
       "         [0.        ],\n",
       "         [0.        ]],\n",
       "\n",
       "        [[0.        ],\n",
       "         [0.        ],\n",
       "         [0.        ],\n",
       "         [0.        ],\n",
       "         [0.        ],\n",
       "         [0.        ],\n",
       "         [0.        ],\n",
       "         [0.30151134],\n",
       "         [0.30151134],\n",
       "         [0.30151134],\n",
       "         [0.30151134],\n",
       "         [0.30151134],\n",
       "         [0.30151134],\n",
       "         [0.30151134],\n",
       "         [0.30151134],\n",
       "         [0.30151134],\n",
       "         [0.30151134],\n",
       "         [0.30151134],\n",
       "         [0.        ],\n",
       "         [0.        ],\n",
       "         [0.        ],\n",
       "         [0.        ],\n",
       "         [0.        ],\n",
       "         [0.        ],\n",
       "         [0.        ],\n",
       "         [0.        ],\n",
       "         [0.        ],\n",
       "         [0.        ]],\n",
       "\n",
       "        [[0.        ],\n",
       "         [0.        ],\n",
       "         [0.        ],\n",
       "         [0.        ],\n",
       "         [0.        ],\n",
       "         [0.        ],\n",
       "         [0.        ],\n",
       "         [0.30151134],\n",
       "         [0.30151134],\n",
       "         [0.30151134],\n",
       "         [0.30151134],\n",
       "         [0.30151134],\n",
       "         [0.30151134],\n",
       "         [0.30151134],\n",
       "         [0.30151134],\n",
       "         [0.30151134],\n",
       "         [0.30151134],\n",
       "         [0.30151134],\n",
       "         [0.        ],\n",
       "         [0.        ],\n",
       "         [0.        ],\n",
       "         [0.        ],\n",
       "         [0.        ],\n",
       "         [0.        ],\n",
       "         [0.        ],\n",
       "         [0.        ],\n",
       "         [0.        ],\n",
       "         [0.        ]],\n",
       "\n",
       "        [[0.        ],\n",
       "         [0.        ],\n",
       "         [0.        ],\n",
       "         [0.        ],\n",
       "         [0.        ],\n",
       "         [0.        ],\n",
       "         [0.        ],\n",
       "         [0.30151134],\n",
       "         [0.30151134],\n",
       "         [0.30151134],\n",
       "         [0.30151134],\n",
       "         [0.30151134],\n",
       "         [0.30151134],\n",
       "         [0.30151134],\n",
       "         [0.30151134],\n",
       "         [0.30151134],\n",
       "         [0.30151134],\n",
       "         [0.30151134],\n",
       "         [0.        ],\n",
       "         [0.        ],\n",
       "         [0.        ],\n",
       "         [0.        ],\n",
       "         [0.        ],\n",
       "         [0.        ],\n",
       "         [0.        ],\n",
       "         [0.        ],\n",
       "         [0.        ],\n",
       "         [0.        ]],\n",
       "\n",
       "        [[0.        ],\n",
       "         [0.        ],\n",
       "         [0.        ],\n",
       "         [0.        ],\n",
       "         [0.        ],\n",
       "         [0.        ],\n",
       "         [0.        ],\n",
       "         [0.30151134],\n",
       "         [0.30151134],\n",
       "         [0.30151134],\n",
       "         [0.30151134],\n",
       "         [0.30151134],\n",
       "         [0.30151134],\n",
       "         [0.30151134],\n",
       "         [0.30151134],\n",
       "         [0.30151134],\n",
       "         [0.30151134],\n",
       "         [0.30151134],\n",
       "         [0.        ],\n",
       "         [0.        ],\n",
       "         [0.        ],\n",
       "         [0.        ],\n",
       "         [0.        ],\n",
       "         [0.        ],\n",
       "         [0.        ],\n",
       "         [0.        ],\n",
       "         [0.        ],\n",
       "         [0.        ]],\n",
       "\n",
       "        [[0.        ],\n",
       "         [0.        ],\n",
       "         [0.        ],\n",
       "         [0.        ],\n",
       "         [0.        ],\n",
       "         [0.        ],\n",
       "         [0.        ],\n",
       "         [0.30151134],\n",
       "         [0.30151134],\n",
       "         [0.30151134],\n",
       "         [0.30151134],\n",
       "         [0.30151134],\n",
       "         [0.30151134],\n",
       "         [0.30151134],\n",
       "         [0.30151134],\n",
       "         [0.30151134],\n",
       "         [0.30151134],\n",
       "         [0.30151134],\n",
       "         [0.        ],\n",
       "         [0.        ],\n",
       "         [0.        ],\n",
       "         [0.        ],\n",
       "         [0.        ],\n",
       "         [0.        ],\n",
       "         [0.        ],\n",
       "         [0.        ],\n",
       "         [0.        ],\n",
       "         [0.        ]],\n",
       "\n",
       "        [[0.        ],\n",
       "         [0.        ],\n",
       "         [0.        ],\n",
       "         [0.        ],\n",
       "         [0.        ],\n",
       "         [0.        ],\n",
       "         [0.        ],\n",
       "         [0.30151134],\n",
       "         [0.30151134],\n",
       "         [0.30151134],\n",
       "         [0.30151134],\n",
       "         [0.30151134],\n",
       "         [0.30151134],\n",
       "         [0.30151134],\n",
       "         [0.30151134],\n",
       "         [0.30151134],\n",
       "         [0.30151134],\n",
       "         [0.30151134],\n",
       "         [0.        ],\n",
       "         [0.        ],\n",
       "         [0.        ],\n",
       "         [0.        ],\n",
       "         [0.        ],\n",
       "         [0.        ],\n",
       "         [0.        ],\n",
       "         [0.        ],\n",
       "         [0.        ],\n",
       "         [0.        ]],\n",
       "\n",
       "        [[0.        ],\n",
       "         [0.        ],\n",
       "         [0.        ],\n",
       "         [0.        ],\n",
       "         [0.        ],\n",
       "         [0.        ],\n",
       "         [0.        ],\n",
       "         [0.30151134],\n",
       "         [0.30151134],\n",
       "         [0.30151134],\n",
       "         [0.30151134],\n",
       "         [0.30151134],\n",
       "         [0.30151134],\n",
       "         [0.30151134],\n",
       "         [0.30151134],\n",
       "         [0.30151134],\n",
       "         [0.30151134],\n",
       "         [0.30151134],\n",
       "         [0.        ],\n",
       "         [0.        ],\n",
       "         [0.        ],\n",
       "         [0.        ],\n",
       "         [0.        ],\n",
       "         [0.        ],\n",
       "         [0.        ],\n",
       "         [0.        ],\n",
       "         [0.        ],\n",
       "         [0.        ]],\n",
       "\n",
       "        [[0.        ],\n",
       "         [0.        ],\n",
       "         [0.        ],\n",
       "         [0.        ],\n",
       "         [0.        ],\n",
       "         [0.        ],\n",
       "         [0.        ],\n",
       "         [0.30151134],\n",
       "         [0.30151134],\n",
       "         [0.30151134],\n",
       "         [0.30151134],\n",
       "         [0.30151134],\n",
       "         [0.30151134],\n",
       "         [0.30151134],\n",
       "         [0.30151134],\n",
       "         [0.30151134],\n",
       "         [0.30151134],\n",
       "         [0.30151134],\n",
       "         [0.        ],\n",
       "         [0.        ],\n",
       "         [0.        ],\n",
       "         [0.        ],\n",
       "         [0.        ],\n",
       "         [0.        ],\n",
       "         [0.        ],\n",
       "         [0.        ],\n",
       "         [0.        ],\n",
       "         [0.        ]],\n",
       "\n",
       "        [[0.        ],\n",
       "         [0.        ],\n",
       "         [0.        ],\n",
       "         [0.        ],\n",
       "         [0.        ],\n",
       "         [0.        ],\n",
       "         [0.        ],\n",
       "         [0.        ],\n",
       "         [0.31622777],\n",
       "         [0.31622777],\n",
       "         [0.31622777],\n",
       "         [0.31622777],\n",
       "         [0.31622777],\n",
       "         [0.31622777],\n",
       "         [0.31622777],\n",
       "         [0.31622777],\n",
       "         [0.31622777],\n",
       "         [0.31622777],\n",
       "         [0.        ],\n",
       "         [0.        ],\n",
       "         [0.        ],\n",
       "         [0.        ],\n",
       "         [0.        ],\n",
       "         [0.        ],\n",
       "         [0.        ],\n",
       "         [0.        ],\n",
       "         [0.        ],\n",
       "         [0.        ]],\n",
       "\n",
       "        [[0.        ],\n",
       "         [0.        ],\n",
       "         [0.        ],\n",
       "         [0.        ],\n",
       "         [0.        ],\n",
       "         [0.        ],\n",
       "         [0.        ],\n",
       "         [0.        ],\n",
       "         [0.        ],\n",
       "         [0.35355339],\n",
       "         [0.35355339],\n",
       "         [0.35355339],\n",
       "         [0.35355339],\n",
       "         [0.35355339],\n",
       "         [0.35355339],\n",
       "         [0.35355339],\n",
       "         [0.35355339],\n",
       "         [0.        ],\n",
       "         [0.        ],\n",
       "         [0.        ],\n",
       "         [0.        ],\n",
       "         [0.        ],\n",
       "         [0.        ],\n",
       "         [0.        ],\n",
       "         [0.        ],\n",
       "         [0.        ],\n",
       "         [0.        ],\n",
       "         [0.        ]],\n",
       "\n",
       "        [[0.        ],\n",
       "         [0.        ],\n",
       "         [0.        ],\n",
       "         [0.        ],\n",
       "         [0.        ],\n",
       "         [0.        ],\n",
       "         [0.        ],\n",
       "         [0.        ],\n",
       "         [0.        ],\n",
       "         [0.        ],\n",
       "         [0.40824829],\n",
       "         [0.40824829],\n",
       "         [0.40824829],\n",
       "         [0.40824829],\n",
       "         [0.40824829],\n",
       "         [0.40824829],\n",
       "         [0.        ],\n",
       "         [0.        ],\n",
       "         [0.        ],\n",
       "         [0.        ],\n",
       "         [0.        ],\n",
       "         [0.        ],\n",
       "         [0.        ],\n",
       "         [0.        ],\n",
       "         [0.        ],\n",
       "         [0.        ],\n",
       "         [0.        ],\n",
       "         [0.        ]],\n",
       "\n",
       "        [[0.        ],\n",
       "         [0.        ],\n",
       "         [0.        ],\n",
       "         [0.        ],\n",
       "         [0.        ],\n",
       "         [0.        ],\n",
       "         [0.        ],\n",
       "         [0.        ],\n",
       "         [0.        ],\n",
       "         [0.        ],\n",
       "         [0.        ],\n",
       "         [0.4472136 ],\n",
       "         [0.4472136 ],\n",
       "         [0.4472136 ],\n",
       "         [0.4472136 ],\n",
       "         [0.4472136 ],\n",
       "         [0.        ],\n",
       "         [0.        ],\n",
       "         [0.        ],\n",
       "         [0.        ],\n",
       "         [0.        ],\n",
       "         [0.        ],\n",
       "         [0.        ],\n",
       "         [0.        ],\n",
       "         [0.        ],\n",
       "         [0.        ],\n",
       "         [0.        ],\n",
       "         [0.        ]],\n",
       "\n",
       "        [[0.        ],\n",
       "         [0.        ],\n",
       "         [0.        ],\n",
       "         [0.        ],\n",
       "         [0.        ],\n",
       "         [0.        ],\n",
       "         [0.        ],\n",
       "         [0.        ],\n",
       "         [0.        ],\n",
       "         [0.        ],\n",
       "         [0.        ],\n",
       "         [0.        ],\n",
       "         [0.        ],\n",
       "         [0.        ],\n",
       "         [0.        ],\n",
       "         [0.        ],\n",
       "         [0.        ],\n",
       "         [0.        ],\n",
       "         [0.        ],\n",
       "         [0.        ],\n",
       "         [0.        ],\n",
       "         [0.        ],\n",
       "         [0.        ],\n",
       "         [0.        ],\n",
       "         [0.        ],\n",
       "         [0.        ],\n",
       "         [0.        ],\n",
       "         [0.        ]],\n",
       "\n",
       "        [[0.        ],\n",
       "         [0.        ],\n",
       "         [0.        ],\n",
       "         [0.        ],\n",
       "         [0.        ],\n",
       "         [0.        ],\n",
       "         [0.        ],\n",
       "         [0.        ],\n",
       "         [0.        ],\n",
       "         [0.        ],\n",
       "         [0.        ],\n",
       "         [0.        ],\n",
       "         [0.        ],\n",
       "         [0.        ],\n",
       "         [0.        ],\n",
       "         [0.        ],\n",
       "         [0.        ],\n",
       "         [0.        ],\n",
       "         [0.        ],\n",
       "         [0.        ],\n",
       "         [0.        ],\n",
       "         [0.        ],\n",
       "         [0.        ],\n",
       "         [0.        ],\n",
       "         [0.        ],\n",
       "         [0.        ],\n",
       "         [0.        ],\n",
       "         [0.        ]],\n",
       "\n",
       "        [[0.        ],\n",
       "         [0.        ],\n",
       "         [0.        ],\n",
       "         [0.        ],\n",
       "         [0.        ],\n",
       "         [0.        ],\n",
       "         [0.        ],\n",
       "         [0.        ],\n",
       "         [0.        ],\n",
       "         [0.        ],\n",
       "         [0.        ],\n",
       "         [0.        ],\n",
       "         [0.        ],\n",
       "         [0.        ],\n",
       "         [0.        ],\n",
       "         [0.        ],\n",
       "         [0.        ],\n",
       "         [0.        ],\n",
       "         [0.        ],\n",
       "         [0.        ],\n",
       "         [0.        ],\n",
       "         [0.        ],\n",
       "         [0.        ],\n",
       "         [0.        ],\n",
       "         [0.        ],\n",
       "         [0.        ],\n",
       "         [0.        ],\n",
       "         [0.        ]],\n",
       "\n",
       "        [[0.        ],\n",
       "         [0.        ],\n",
       "         [0.        ],\n",
       "         [0.        ],\n",
       "         [0.        ],\n",
       "         [0.        ],\n",
       "         [0.        ],\n",
       "         [0.        ],\n",
       "         [0.        ],\n",
       "         [0.        ],\n",
       "         [0.        ],\n",
       "         [0.        ],\n",
       "         [0.        ],\n",
       "         [0.        ],\n",
       "         [0.        ],\n",
       "         [0.        ],\n",
       "         [0.        ],\n",
       "         [0.        ],\n",
       "         [0.        ],\n",
       "         [0.        ],\n",
       "         [0.        ],\n",
       "         [0.        ],\n",
       "         [0.        ],\n",
       "         [0.        ],\n",
       "         [0.        ],\n",
       "         [0.        ],\n",
       "         [0.        ],\n",
       "         [0.        ]],\n",
       "\n",
       "        [[0.        ],\n",
       "         [0.        ],\n",
       "         [0.        ],\n",
       "         [0.        ],\n",
       "         [0.        ],\n",
       "         [0.        ],\n",
       "         [0.        ],\n",
       "         [0.        ],\n",
       "         [0.        ],\n",
       "         [0.        ],\n",
       "         [0.        ],\n",
       "         [0.        ],\n",
       "         [0.        ],\n",
       "         [0.        ],\n",
       "         [0.        ],\n",
       "         [0.        ],\n",
       "         [0.        ],\n",
       "         [0.        ],\n",
       "         [0.        ],\n",
       "         [0.        ],\n",
       "         [0.        ],\n",
       "         [0.        ],\n",
       "         [0.        ],\n",
       "         [0.        ],\n",
       "         [0.        ],\n",
       "         [0.        ],\n",
       "         [0.        ],\n",
       "         [0.        ]],\n",
       "\n",
       "        [[0.        ],\n",
       "         [0.        ],\n",
       "         [0.        ],\n",
       "         [0.        ],\n",
       "         [0.        ],\n",
       "         [0.        ],\n",
       "         [0.        ],\n",
       "         [0.        ],\n",
       "         [0.        ],\n",
       "         [0.        ],\n",
       "         [0.        ],\n",
       "         [0.        ],\n",
       "         [0.        ],\n",
       "         [0.        ],\n",
       "         [0.        ],\n",
       "         [0.        ],\n",
       "         [0.        ],\n",
       "         [0.        ],\n",
       "         [0.        ],\n",
       "         [0.        ],\n",
       "         [0.        ],\n",
       "         [0.        ],\n",
       "         [0.        ],\n",
       "         [0.        ],\n",
       "         [0.        ],\n",
       "         [0.        ],\n",
       "         [0.        ],\n",
       "         [0.        ]],\n",
       "\n",
       "        [[0.        ],\n",
       "         [0.        ],\n",
       "         [0.        ],\n",
       "         [0.        ],\n",
       "         [0.        ],\n",
       "         [0.        ],\n",
       "         [0.        ],\n",
       "         [0.        ],\n",
       "         [0.        ],\n",
       "         [0.        ],\n",
       "         [0.        ],\n",
       "         [0.        ],\n",
       "         [0.        ],\n",
       "         [0.        ],\n",
       "         [0.        ],\n",
       "         [0.        ],\n",
       "         [0.        ],\n",
       "         [0.        ],\n",
       "         [0.        ],\n",
       "         [0.        ],\n",
       "         [0.        ],\n",
       "         [0.        ],\n",
       "         [0.        ],\n",
       "         [0.        ],\n",
       "         [0.        ],\n",
       "         [0.        ],\n",
       "         [0.        ],\n",
       "         [0.        ]]]])"
      ]
     },
     "execution_count": 93,
     "metadata": {},
     "output_type": "execute_result"
    }
   ],
   "source": [
    "IMG_SIZE=28\n",
    "new_img = tf.keras.utils.normalize(resized, axis=1)\n",
    "new_img = np.array(new_img).reshape(-1, IMG_SIZE, IMG_SIZE, 1)\n",
    "new_img"
   ]
  },
  {
   "cell_type": "code",
   "execution_count": 97,
   "metadata": {},
   "outputs": [],
   "source": [
    "# prediction = model_n.predict(new_img)\n",
    "input_img = Image.open('test_image.png')\n",
    "b = np.array(input_img)\n",
    "b=b/255"
   ]
  },
  {
   "cell_type": "code",
   "execution_count": 98,
   "metadata": {},
   "outputs": [
    {
     "data": {
      "text/plain": [
       "array([[[0., 0., 0.],\n",
       "        [0., 0., 0.],\n",
       "        [0., 0., 0.],\n",
       "        ...,\n",
       "        [0., 0., 0.],\n",
       "        [0., 0., 0.],\n",
       "        [0., 0., 0.]],\n",
       "\n",
       "       [[0., 0., 0.],\n",
       "        [0., 0., 0.],\n",
       "        [0., 0., 0.],\n",
       "        ...,\n",
       "        [0., 0., 0.],\n",
       "        [0., 0., 0.],\n",
       "        [0., 0., 0.]],\n",
       "\n",
       "       [[0., 0., 0.],\n",
       "        [0., 0., 0.],\n",
       "        [0., 0., 0.],\n",
       "        ...,\n",
       "        [0., 0., 0.],\n",
       "        [0., 0., 0.],\n",
       "        [0., 0., 0.]],\n",
       "\n",
       "       ...,\n",
       "\n",
       "       [[0., 0., 0.],\n",
       "        [0., 0., 0.],\n",
       "        [0., 0., 0.],\n",
       "        ...,\n",
       "        [0., 0., 0.],\n",
       "        [0., 0., 0.],\n",
       "        [0., 0., 0.]],\n",
       "\n",
       "       [[0., 0., 0.],\n",
       "        [0., 0., 0.],\n",
       "        [0., 0., 0.],\n",
       "        ...,\n",
       "        [0., 0., 0.],\n",
       "        [0., 0., 0.],\n",
       "        [0., 0., 0.]],\n",
       "\n",
       "       [[0., 0., 0.],\n",
       "        [0., 0., 0.],\n",
       "        [0., 0., 0.],\n",
       "        ...,\n",
       "        [0., 0., 0.],\n",
       "        [0., 0., 0.],\n",
       "        [0., 0., 0.]]])"
      ]
     },
     "execution_count": 98,
     "metadata": {},
     "output_type": "execute_result"
    }
   ],
   "source": [
    "b"
   ]
  },
  {
   "cell_type": "code",
   "execution_count": 99,
   "metadata": {},
   "outputs": [
    {
     "data": {
      "text/plain": [
       "(28, 28, 3)"
      ]
     },
     "execution_count": 99,
     "metadata": {},
     "output_type": "execute_result"
    }
   ],
   "source": [
    "b.shape"
   ]
  },
  {
   "cell_type": "code",
   "execution_count": null,
   "metadata": {},
   "outputs": [],
   "source": []
  },
  {
   "cell_type": "code",
   "execution_count": null,
   "metadata": {},
   "outputs": [],
   "source": []
  }
 ],
 "metadata": {
  "kernelspec": {
   "display_name": "Python 3",
   "language": "python",
   "name": "python3"
  },
  "language_info": {
   "codemirror_mode": {
    "name": "ipython",
    "version": 3
   },
   "file_extension": ".py",
   "mimetype": "text/x-python",
   "name": "python",
   "nbconvert_exporter": "python",
   "pygments_lexer": "ipython3",
   "version": "3.7.4"
  }
 },
 "nbformat": 4,
 "nbformat_minor": 2
}
